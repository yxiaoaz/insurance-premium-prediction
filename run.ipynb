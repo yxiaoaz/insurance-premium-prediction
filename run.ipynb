{
 "cells": [
  {
   "cell_type": "code",
   "execution_count": 1,
   "id": "44e4f346",
   "metadata": {
    "execution": {
     "iopub.execute_input": "2024-12-31T19:43:05.700901Z",
     "iopub.status.busy": "2024-12-31T19:43:05.700627Z",
     "iopub.status.idle": "2024-12-31T19:43:11.116567Z",
     "shell.execute_reply": "2024-12-31T19:43:11.115636Z"
    },
    "papermill": {
     "duration": 5.428193,
     "end_time": "2024-12-31T19:43:11.118209",
     "exception": false,
     "start_time": "2024-12-31T19:43:05.690016",
     "status": "completed"
    },
    "tags": []
   },
   "outputs": [],
   "source": [
    "import os\n",
    "\n",
    "import numpy as np\n",
    "import pandas as pd\n",
    "import matplotlib.pyplot as plt\n",
    "\n",
    "from catboost import CatBoostRegressor\n",
    "from lightgbm import LGBMRegressor, early_stopping, log_evaluation\n",
    "import optuna\n",
    "import seaborn as sns\n",
    "from scipy.stats import boxcox\n",
    "from sklearn.ensemble import VotingRegressor\n",
    "from sklearn.preprocessing import OrdinalEncoder, StandardScaler\n",
    "from sklearn.model_selection import train_test_split, KFold\n",
    "from sklearn.metrics import mean_squared_error\n",
    "\n",
    "import warnings\n",
    "warnings.simplefilter(action='ignore', category=FutureWarning)\n",
    "\n",
    "import logging\n",
    "logging.getLogger(\"lightgbm\").setLevel(logging.ERROR)\n",
    "\n",
    "RANDOM_SEED = 2024\n"
   ]
  },
  {
   "cell_type": "markdown",
   "id": "955f1b3d",
   "metadata": {
    "papermill": {
     "duration": 0.008238,
     "end_time": "2024-12-31T19:43:11.135021",
     "exception": false,
     "start_time": "2024-12-31T19:43:11.126783",
     "status": "completed"
    },
    "tags": []
   },
   "source": [
    "# Loading Data"
   ]
  },
  {
   "cell_type": "code",
   "execution_count": null,
   "id": "2c49b51a",
   "metadata": {
    "execution": {
     "iopub.execute_input": "2024-12-31T19:43:11.156923Z",
     "iopub.status.busy": "2024-12-31T19:43:11.156223Z",
     "iopub.status.idle": "2024-12-31T19:43:11.160290Z",
     "shell.execute_reply": "2024-12-31T19:43:11.159519Z"
    },
    "papermill": {
     "duration": 0.017165,
     "end_time": "2024-12-31T19:43:11.162086",
     "exception": false,
     "start_time": "2024-12-31T19:43:11.144921",
     "status": "completed"
    },
    "tags": []
   },
   "outputs": [],
   "source": [
    "data_folder = \"data\""
   ]
  },
  {
   "cell_type": "code",
   "execution_count": 3,
   "id": "fc23c8fd",
   "metadata": {
    "execution": {
     "iopub.execute_input": "2024-12-31T19:43:11.191228Z",
     "iopub.status.busy": "2024-12-31T19:43:11.190918Z",
     "iopub.status.idle": "2024-12-31T19:43:19.679559Z",
     "shell.execute_reply": "2024-12-31T19:43:19.678861Z"
    },
    "papermill": {
     "duration": 8.50816,
     "end_time": "2024-12-31T19:43:19.681133",
     "exception": false,
     "start_time": "2024-12-31T19:43:11.172973",
     "status": "completed"
    },
    "tags": []
   },
   "outputs": [],
   "source": [
    "train = pd.read_csv(os.path.join(data_folder, \"train.csv\"))\n",
    "test = pd.read_csv(os.path.join(data_folder, \"test.csv\"))"
   ]
  },
  {
   "cell_type": "code",
   "execution_count": 4,
   "id": "375c88ec",
   "metadata": {
    "execution": {
     "iopub.execute_input": "2024-12-31T19:43:19.698808Z",
     "iopub.status.busy": "2024-12-31T19:43:19.698567Z",
     "iopub.status.idle": "2024-12-31T19:43:19.728081Z",
     "shell.execute_reply": "2024-12-31T19:43:19.727364Z"
    },
    "papermill": {
     "duration": 0.039164,
     "end_time": "2024-12-31T19:43:19.729325",
     "exception": false,
     "start_time": "2024-12-31T19:43:19.690161",
     "status": "completed"
    },
    "tags": []
   },
   "outputs": [
    {
     "data": {
      "text/html": [
       "<div>\n",
       "<style scoped>\n",
       "    .dataframe tbody tr th:only-of-type {\n",
       "        vertical-align: middle;\n",
       "    }\n",
       "\n",
       "    .dataframe tbody tr th {\n",
       "        vertical-align: top;\n",
       "    }\n",
       "\n",
       "    .dataframe thead th {\n",
       "        text-align: right;\n",
       "    }\n",
       "</style>\n",
       "<table border=\"1\" class=\"dataframe\">\n",
       "  <thead>\n",
       "    <tr style=\"text-align: right;\">\n",
       "      <th></th>\n",
       "      <th>id</th>\n",
       "      <th>Age</th>\n",
       "      <th>Gender</th>\n",
       "      <th>Annual Income</th>\n",
       "      <th>Marital Status</th>\n",
       "      <th>Number of Dependents</th>\n",
       "      <th>Education Level</th>\n",
       "      <th>Occupation</th>\n",
       "      <th>Health Score</th>\n",
       "      <th>Location</th>\n",
       "      <th>...</th>\n",
       "      <th>Previous Claims</th>\n",
       "      <th>Vehicle Age</th>\n",
       "      <th>Credit Score</th>\n",
       "      <th>Insurance Duration</th>\n",
       "      <th>Policy Start Date</th>\n",
       "      <th>Customer Feedback</th>\n",
       "      <th>Smoking Status</th>\n",
       "      <th>Exercise Frequency</th>\n",
       "      <th>Property Type</th>\n",
       "      <th>Premium Amount</th>\n",
       "    </tr>\n",
       "  </thead>\n",
       "  <tbody>\n",
       "    <tr>\n",
       "      <th>0</th>\n",
       "      <td>0</td>\n",
       "      <td>19.0</td>\n",
       "      <td>Female</td>\n",
       "      <td>10049.0</td>\n",
       "      <td>Married</td>\n",
       "      <td>1.0</td>\n",
       "      <td>Bachelor's</td>\n",
       "      <td>Self-Employed</td>\n",
       "      <td>22.598761</td>\n",
       "      <td>Urban</td>\n",
       "      <td>...</td>\n",
       "      <td>2.0</td>\n",
       "      <td>17.0</td>\n",
       "      <td>372.0</td>\n",
       "      <td>5.0</td>\n",
       "      <td>2023-12-23 15:21:39.134960</td>\n",
       "      <td>Poor</td>\n",
       "      <td>No</td>\n",
       "      <td>Weekly</td>\n",
       "      <td>House</td>\n",
       "      <td>2869.0</td>\n",
       "    </tr>\n",
       "    <tr>\n",
       "      <th>1</th>\n",
       "      <td>1</td>\n",
       "      <td>39.0</td>\n",
       "      <td>Female</td>\n",
       "      <td>31678.0</td>\n",
       "      <td>Divorced</td>\n",
       "      <td>3.0</td>\n",
       "      <td>Master's</td>\n",
       "      <td>NaN</td>\n",
       "      <td>15.569731</td>\n",
       "      <td>Rural</td>\n",
       "      <td>...</td>\n",
       "      <td>1.0</td>\n",
       "      <td>12.0</td>\n",
       "      <td>694.0</td>\n",
       "      <td>2.0</td>\n",
       "      <td>2023-06-12 15:21:39.111551</td>\n",
       "      <td>Average</td>\n",
       "      <td>Yes</td>\n",
       "      <td>Monthly</td>\n",
       "      <td>House</td>\n",
       "      <td>1483.0</td>\n",
       "    </tr>\n",
       "    <tr>\n",
       "      <th>2</th>\n",
       "      <td>2</td>\n",
       "      <td>23.0</td>\n",
       "      <td>Male</td>\n",
       "      <td>25602.0</td>\n",
       "      <td>Divorced</td>\n",
       "      <td>3.0</td>\n",
       "      <td>High School</td>\n",
       "      <td>Self-Employed</td>\n",
       "      <td>47.177549</td>\n",
       "      <td>Suburban</td>\n",
       "      <td>...</td>\n",
       "      <td>1.0</td>\n",
       "      <td>14.0</td>\n",
       "      <td>NaN</td>\n",
       "      <td>3.0</td>\n",
       "      <td>2023-09-30 15:21:39.221386</td>\n",
       "      <td>Good</td>\n",
       "      <td>Yes</td>\n",
       "      <td>Weekly</td>\n",
       "      <td>House</td>\n",
       "      <td>567.0</td>\n",
       "    </tr>\n",
       "    <tr>\n",
       "      <th>3</th>\n",
       "      <td>3</td>\n",
       "      <td>21.0</td>\n",
       "      <td>Male</td>\n",
       "      <td>141855.0</td>\n",
       "      <td>Married</td>\n",
       "      <td>2.0</td>\n",
       "      <td>Bachelor's</td>\n",
       "      <td>NaN</td>\n",
       "      <td>10.938144</td>\n",
       "      <td>Rural</td>\n",
       "      <td>...</td>\n",
       "      <td>1.0</td>\n",
       "      <td>0.0</td>\n",
       "      <td>367.0</td>\n",
       "      <td>1.0</td>\n",
       "      <td>2024-06-12 15:21:39.226954</td>\n",
       "      <td>Poor</td>\n",
       "      <td>Yes</td>\n",
       "      <td>Daily</td>\n",
       "      <td>Apartment</td>\n",
       "      <td>765.0</td>\n",
       "    </tr>\n",
       "    <tr>\n",
       "      <th>4</th>\n",
       "      <td>4</td>\n",
       "      <td>21.0</td>\n",
       "      <td>Male</td>\n",
       "      <td>39651.0</td>\n",
       "      <td>Single</td>\n",
       "      <td>1.0</td>\n",
       "      <td>Bachelor's</td>\n",
       "      <td>Self-Employed</td>\n",
       "      <td>20.376094</td>\n",
       "      <td>Rural</td>\n",
       "      <td>...</td>\n",
       "      <td>0.0</td>\n",
       "      <td>8.0</td>\n",
       "      <td>598.0</td>\n",
       "      <td>4.0</td>\n",
       "      <td>2021-12-01 15:21:39.252145</td>\n",
       "      <td>Poor</td>\n",
       "      <td>Yes</td>\n",
       "      <td>Weekly</td>\n",
       "      <td>House</td>\n",
       "      <td>2022.0</td>\n",
       "    </tr>\n",
       "  </tbody>\n",
       "</table>\n",
       "<p>5 rows × 21 columns</p>\n",
       "</div>"
      ],
      "text/plain": [
       "   id   Age  Gender  Annual Income Marital Status  Number of Dependents  \\\n",
       "0   0  19.0  Female        10049.0        Married                   1.0   \n",
       "1   1  39.0  Female        31678.0       Divorced                   3.0   \n",
       "2   2  23.0    Male        25602.0       Divorced                   3.0   \n",
       "3   3  21.0    Male       141855.0        Married                   2.0   \n",
       "4   4  21.0    Male        39651.0         Single                   1.0   \n",
       "\n",
       "  Education Level     Occupation  Health Score  Location  ... Previous Claims  \\\n",
       "0      Bachelor's  Self-Employed     22.598761     Urban  ...             2.0   \n",
       "1        Master's            NaN     15.569731     Rural  ...             1.0   \n",
       "2     High School  Self-Employed     47.177549  Suburban  ...             1.0   \n",
       "3      Bachelor's            NaN     10.938144     Rural  ...             1.0   \n",
       "4      Bachelor's  Self-Employed     20.376094     Rural  ...             0.0   \n",
       "\n",
       "   Vehicle Age  Credit Score  Insurance Duration           Policy Start Date  \\\n",
       "0         17.0         372.0                 5.0  2023-12-23 15:21:39.134960   \n",
       "1         12.0         694.0                 2.0  2023-06-12 15:21:39.111551   \n",
       "2         14.0           NaN                 3.0  2023-09-30 15:21:39.221386   \n",
       "3          0.0         367.0                 1.0  2024-06-12 15:21:39.226954   \n",
       "4          8.0         598.0                 4.0  2021-12-01 15:21:39.252145   \n",
       "\n",
       "  Customer Feedback Smoking Status Exercise Frequency Property Type  \\\n",
       "0              Poor             No             Weekly         House   \n",
       "1           Average            Yes            Monthly         House   \n",
       "2              Good            Yes             Weekly         House   \n",
       "3              Poor            Yes              Daily     Apartment   \n",
       "4              Poor            Yes             Weekly         House   \n",
       "\n",
       "  Premium Amount  \n",
       "0         2869.0  \n",
       "1         1483.0  \n",
       "2          567.0  \n",
       "3          765.0  \n",
       "4         2022.0  \n",
       "\n",
       "[5 rows x 21 columns]"
      ]
     },
     "execution_count": 4,
     "metadata": {},
     "output_type": "execute_result"
    }
   ],
   "source": [
    "train.head()"
   ]
  },
  {
   "cell_type": "code",
   "execution_count": 5,
   "id": "573017be",
   "metadata": {
    "execution": {
     "iopub.execute_input": "2024-12-31T19:43:19.746434Z",
     "iopub.status.busy": "2024-12-31T19:43:19.746198Z",
     "iopub.status.idle": "2024-12-31T19:43:19.749598Z",
     "shell.execute_reply": "2024-12-31T19:43:19.748797Z"
    },
    "papermill": {
     "duration": 0.013174,
     "end_time": "2024-12-31T19:43:19.750729",
     "exception": false,
     "start_time": "2024-12-31T19:43:19.737555",
     "status": "completed"
    },
    "tags": []
   },
   "outputs": [],
   "source": [
    "X_columns_original = [col for col in train.columns if col != 'Premium Amount']"
   ]
  },
  {
   "cell_type": "code",
   "execution_count": 6,
   "id": "dd927211",
   "metadata": {
    "execution": {
     "iopub.execute_input": "2024-12-31T19:43:19.768218Z",
     "iopub.status.busy": "2024-12-31T19:43:19.767970Z",
     "iopub.status.idle": "2024-12-31T19:43:20.303560Z",
     "shell.execute_reply": "2024-12-31T19:43:20.302582Z"
    },
    "papermill": {
     "duration": 0.545687,
     "end_time": "2024-12-31T19:43:20.304807",
     "exception": false,
     "start_time": "2024-12-31T19:43:19.759120",
     "status": "completed"
    },
    "tags": []
   },
   "outputs": [
    {
     "name": "stdout",
     "output_type": "stream",
     "text": [
      "<class 'pandas.core.frame.DataFrame'>\n",
      "RangeIndex: 1200000 entries, 0 to 1199999\n",
      "Data columns (total 21 columns):\n",
      " #   Column                Non-Null Count    Dtype  \n",
      "---  ------                --------------    -----  \n",
      " 0   id                    1200000 non-null  int64  \n",
      " 1   Age                   1181295 non-null  float64\n",
      " 2   Gender                1200000 non-null  object \n",
      " 3   Annual Income         1155051 non-null  float64\n",
      " 4   Marital Status        1181471 non-null  object \n",
      " 5   Number of Dependents  1090328 non-null  float64\n",
      " 6   Education Level       1200000 non-null  object \n",
      " 7   Occupation            841925 non-null   object \n",
      " 8   Health Score          1125924 non-null  float64\n",
      " 9   Location              1200000 non-null  object \n",
      " 10  Policy Type           1200000 non-null  object \n",
      " 11  Previous Claims       835971 non-null   float64\n",
      " 12  Vehicle Age           1199994 non-null  float64\n",
      " 13  Credit Score          1062118 non-null  float64\n",
      " 14  Insurance Duration    1199999 non-null  float64\n",
      " 15  Policy Start Date     1200000 non-null  object \n",
      " 16  Customer Feedback     1122176 non-null  object \n",
      " 17  Smoking Status        1200000 non-null  object \n",
      " 18  Exercise Frequency    1200000 non-null  object \n",
      " 19  Property Type         1200000 non-null  object \n",
      " 20  Premium Amount        1200000 non-null  float64\n",
      "dtypes: float64(9), int64(1), object(11)\n",
      "memory usage: 192.3+ MB\n"
     ]
    }
   ],
   "source": [
    "train.info()"
   ]
  },
  {
   "cell_type": "markdown",
   "id": "d2e7d642",
   "metadata": {
    "papermill": {
     "duration": 0.008207,
     "end_time": "2024-12-31T19:43:20.321726",
     "exception": false,
     "start_time": "2024-12-31T19:43:20.313519",
     "status": "completed"
    },
    "tags": []
   },
   "source": [
    "# EDA"
   ]
  },
  {
   "cell_type": "markdown",
   "id": "5239656c",
   "metadata": {
    "papermill": {
     "duration": 0.007743,
     "end_time": "2024-12-31T19:43:20.337607",
     "exception": false,
     "start_time": "2024-12-31T19:43:20.329864",
     "status": "completed"
    },
    "tags": []
   },
   "source": [
    "### Feature Distribution\n",
    "\n",
    "Key Observations:\n",
    "1. The distribution is consistent across train and test set\n",
    "2. For numerical features, `Annual Income`, `Previous Claims`, and `Health Score` are positively-skewed. Others are roughly uniform.\n",
    "3. Categorical features are uniform"
   ]
  },
  {
   "cell_type": "code",
   "execution_count": 7,
   "id": "aeccfbd6",
   "metadata": {
    "execution": {
     "iopub.execute_input": "2024-12-31T19:43:20.354593Z",
     "iopub.status.busy": "2024-12-31T19:43:20.354357Z",
     "iopub.status.idle": "2024-12-31T19:43:20.359623Z",
     "shell.execute_reply": "2024-12-31T19:43:20.358992Z"
    },
    "papermill": {
     "duration": 0.015024,
     "end_time": "2024-12-31T19:43:20.360756",
     "exception": false,
     "start_time": "2024-12-31T19:43:20.345732",
     "status": "completed"
    },
    "tags": []
   },
   "outputs": [],
   "source": [
    "def plot_feature_distribution(df, title = 'Dataset Feature Distributions'):\n",
    "    print(f'number of columns : {len(df.columns)}')\n",
    "    nrows = int(np.ceil(len(df.columns)/4))\n",
    "    ncols = int(np.ceil(len(df.columns) / nrows))\n",
    "    print(f'num rows = {nrows}, num cols = {ncols}')\n",
    "    fig, axes = plt.subplots(nrows=nrows, ncols=ncols, figsize=(3 * ncols, 2 * nrows))\n",
    "    columns_to_plot = df.columns\n",
    "    for i, column in enumerate(columns_to_plot):\n",
    "        ax = axes.flatten()[i]\n",
    "        df[column].hist(ax=ax, bins=20, color='skyblue', edgecolor='black', linewidth=0.5)\n",
    "        ax.set_title(column, fontsize=9)\n",
    "        ax.tick_params(axis='both', which='major', labelsize=6)\n",
    "    plt.suptitle(title, fontsize=11)\n",
    "    plt.tight_layout()\n",
    "    plt.show()"
   ]
  },
  {
   "cell_type": "code",
   "execution_count": 8,
   "id": "c6e20648",
   "metadata": {
    "execution": {
     "iopub.execute_input": "2024-12-31T19:43:20.377566Z",
     "iopub.status.busy": "2024-12-31T19:43:20.377368Z",
     "iopub.status.idle": "2024-12-31T19:43:22.254668Z",
     "shell.execute_reply": "2024-12-31T19:43:22.253784Z"
    },
    "papermill": {
     "duration": 1.887272,
     "end_time": "2024-12-31T19:43:22.256016",
     "exception": false,
     "start_time": "2024-12-31T19:43:20.368744",
     "status": "completed"
    },
    "tags": []
   },
   "outputs": [
    {
     "name": "stdout",
     "output_type": "stream",
     "text": [
      "number of columns : 9\n",
      "num rows = 3, num cols = 3\n"
     ]
    },
    {
     "data": {
      "image/png": "[encoded data removed]",
      "text/plain": [
       "<Figure size 900x600 with 9 Axes>"
      ]
     },
     "metadata": {},
     "output_type": "display_data"
    }
   ],
   "source": [
    "plot_feature_distribution(train.select_dtypes(\"float64\"), title = \"Numerical Feature Distribution (Train)\")"
   ]
  },
  {
   "cell_type": "code",
   "execution_count": 9,
   "id": "bd9533ec",
   "metadata": {
    "execution": {
     "iopub.execute_input": "2024-12-31T19:43:22.276170Z",
     "iopub.status.busy": "2024-12-31T19:43:22.275926Z",
     "iopub.status.idle": "2024-12-31T19:43:24.291785Z",
     "shell.execute_reply": "2024-12-31T19:43:24.290906Z"
    },
    "papermill": {
     "duration": 2.027258,
     "end_time": "2024-12-31T19:43:24.293146",
     "exception": false,
     "start_time": "2024-12-31T19:43:22.265888",
     "status": "completed"
    },
    "tags": []
   },
   "outputs": [
    {
     "name": "stdout",
     "output_type": "stream",
     "text": [
      "number of columns : 9\n",
      "num rows = 3, num cols = 3\n"
     ]
    },
    {
     "data": {
      "image/png": "[encoded data removed]",
      "text/plain": [
       "<Figure size 900x600 with 9 Axes>"
      ]
     },
     "metadata": {},
     "output_type": "display_data"
    }
   ],
   "source": [
    "plot_feature_distribution(train.select_dtypes(\"float64\"), title = \"Numerical Feature Distribution (Test)\")"
   ]
  },
  {
   "cell_type": "code",
   "execution_count": null,
   "id": "9fc64c1f",
   "metadata": {
    "papermill": {
     "duration": 0.010321,
     "end_time": "2024-12-31T19:43:24.314636",
     "exception": false,
     "start_time": "2024-12-31T19:43:24.304315",
     "status": "completed"
    },
    "tags": []
   },
   "outputs": [],
   "source": []
  },
  {
   "cell_type": "code",
   "execution_count": 10,
   "id": "b3126f16",
   "metadata": {
    "execution": {
     "iopub.execute_input": "2024-12-31T19:43:24.336589Z",
     "iopub.status.busy": "2024-12-31T19:43:24.336327Z",
     "iopub.status.idle": "2024-12-31T19:43:29.300577Z",
     "shell.execute_reply": "2024-12-31T19:43:29.299689Z"
    },
    "papermill": {
     "duration": 4.976558,
     "end_time": "2024-12-31T19:43:29.301930",
     "exception": false,
     "start_time": "2024-12-31T19:43:24.325372",
     "status": "completed"
    },
    "tags": []
   },
   "outputs": [
    {
     "name": "stdout",
     "output_type": "stream",
     "text": [
      "number of columns : 10\n",
      "num rows = 3, num cols = 4\n"
     ]
    },
    {
     "data": {
      "image/png": "[encoded data removed]",
      "text/plain": [
       "<Figure size 1200x600 with 12 Axes>"
      ]
     },
     "metadata": {},
     "output_type": "display_data"
    }
   ],
   "source": [
    "plot_feature_distribution(train.select_dtypes(\"object\").drop(columns = [\"Policy Start Date\"]), title = \"Categorical Feature Distribution (Train)\")"
   ]
  },
  {
   "cell_type": "code",
   "execution_count": 11,
   "id": "eab66f4d",
   "metadata": {
    "execution": {
     "iopub.execute_input": "2024-12-31T19:43:29.327426Z",
     "iopub.status.busy": "2024-12-31T19:43:29.327115Z",
     "iopub.status.idle": "2024-12-31T19:43:33.368043Z",
     "shell.execute_reply": "2024-12-31T19:43:33.367215Z"
    },
    "papermill": {
     "duration": 4.055036,
     "end_time": "2024-12-31T19:43:33.369580",
     "exception": false,
     "start_time": "2024-12-31T19:43:29.314544",
     "status": "completed"
    },
    "tags": []
   },
   "outputs": [
    {
     "name": "stdout",
     "output_type": "stream",
     "text": [
      "number of columns : 10\n",
      "num rows = 3, num cols = 4\n"
     ]
    },
    {
     "data": {
      "image/png": "[encoded data removed]",
      "text/plain": [
       "<Figure size 1200x600 with 12 Axes>"
      ]
     },
     "metadata": {},
     "output_type": "display_data"
    }
   ],
   "source": [
    "plot_feature_distribution(test.select_dtypes(\"object\").drop(columns = [\"Policy Start Date\"]), title = \"Categorical Feature Distribution (Train)\")"
   ]
  },
  {
   "cell_type": "markdown",
   "id": "500cd3c2",
   "metadata": {
    "papermill": {
     "duration": 0.012967,
     "end_time": "2024-12-31T19:43:33.396484",
     "exception": false,
     "start_time": "2024-12-31T19:43:33.383517",
     "status": "completed"
    },
    "tags": []
   },
   "source": [
    "### Missing Values"
   ]
  },
  {
   "cell_type": "markdown",
   "id": "7a7812c5",
   "metadata": {
    "papermill": {
     "duration": 0.013019,
     "end_time": "2024-12-31T19:43:33.422654",
     "exception": false,
     "start_time": "2024-12-31T19:43:33.409635",
     "status": "completed"
    },
    "tags": []
   },
   "source": [
    "The distribution of missing values is similar across train and test set. Therefore, the imputation strategy across train and test should be consistent"
   ]
  },
  {
   "cell_type": "code",
   "execution_count": 12,
   "id": "f48dc204",
   "metadata": {
    "execution": {
     "iopub.execute_input": "2024-12-31T19:43:33.449941Z",
     "iopub.status.busy": "2024-12-31T19:43:33.449672Z",
     "iopub.status.idle": "2024-12-31T19:43:33.455035Z",
     "shell.execute_reply": "2024-12-31T19:43:33.454345Z"
    },
    "papermill": {
     "duration": 0.020423,
     "end_time": "2024-12-31T19:43:33.456200",
     "exception": false,
     "start_time": "2024-12-31T19:43:33.435777",
     "status": "completed"
    },
    "tags": []
   },
   "outputs": [],
   "source": [
    "# Highlight rows with more than 5% missing values\n",
    "def highlight_high_missing_values(val, threshold):\n",
    "    if float(val.strip('%')) > threshold:\n",
    "        color = 'red'\n",
    "    elif float(val.strip('%')) <= threshold and float(val.strip('%')) > 0:\n",
    "        color = 'yellow'\n",
    "    else:\n",
    "        color = None\n",
    "    return f'color: {color}'\n",
    "\n",
    "def inspectMissingValues(df, threshold = 5):\n",
    "    '''\n",
    "    Calculate the number and portion of missing values in each column of df\n",
    "    highlight those with missing value portion > (threshold %)\n",
    "    '''\n",
    "    # Count of missing values\n",
    "    missing_values_count = df.isnull().sum()\n",
    "\n",
    "    # Proportion of missing values\n",
    "    total_observations = df.shape[0]\n",
    "    missing_values_proportion = missing_values_count / total_observations\n",
    "\n",
    "    \n",
    "    missing_data_summary = pd.DataFrame({\n",
    "        'Missing Values Count': missing_values_count,\n",
    "        'Proportion (%)': missing_values_proportion.map(lambda x: f'{x:.4%}'),\n",
    "        'Data Type': df.dtypes\n",
    "    })\n",
    "    \n",
    "    missing_data_summary = missing_data_summary.style.applymap(lambda val: highlight_high_missing_values(val, threshold), subset=['Proportion (%)'])\n",
    "\n",
    "    return missing_data_summary"
   ]
  },
  {
   "cell_type": "code",
   "execution_count": 13,
   "id": "b96473e9",
   "metadata": {
    "execution": {
     "iopub.execute_input": "2024-12-31T19:43:33.483858Z",
     "iopub.status.busy": "2024-12-31T19:43:33.483611Z",
     "iopub.status.idle": "2024-12-31T19:43:34.039113Z",
     "shell.execute_reply": "2024-12-31T19:43:34.038137Z"
    },
    "papermill": {
     "duration": 0.571198,
     "end_time": "2024-12-31T19:43:34.040511",
     "exception": false,
     "start_time": "2024-12-31T19:43:33.469313",
     "status": "completed"
    },
    "tags": []
   },
   "outputs": [
    {
     "data": {
      "text/html": [
       "<style type=\"text/css\">\n",
       "#T_99877_row0_col1, #T_99877_row2_col1, #T_99877_row6_col1, #T_99877_row9_col1, #T_99877_row10_col1, #T_99877_row15_col1, #T_99877_row17_col1, #T_99877_row18_col1, #T_99877_row19_col1, #T_99877_row20_col1 {\n",
       "  color: None;\n",
       "}\n",
       "#T_99877_row1_col1, #T_99877_row3_col1, #T_99877_row4_col1, #T_99877_row12_col1, #T_99877_row14_col1 {\n",
       "  color: yellow;\n",
       "}\n",
       "#T_99877_row5_col1, #T_99877_row7_col1, #T_99877_row8_col1, #T_99877_row11_col1, #T_99877_row13_col1, #T_99877_row16_col1 {\n",
       "  color: red;\n",
       "}\n",
       "</style>\n",
       "<table id=\"T_99877\">\n",
       "  <thead>\n",
       "    <tr>\n",
       "      <th class=\"blank level0\" >&nbsp;</th>\n",
       "      <th id=\"T_99877_level0_col0\" class=\"col_heading level0 col0\" >Missing Values Count</th>\n",
       "      <th id=\"T_99877_level0_col1\" class=\"col_heading level0 col1\" >Proportion (%)</th>\n",
       "      <th id=\"T_99877_level0_col2\" class=\"col_heading level0 col2\" >Data Type</th>\n",
       "    </tr>\n",
       "  </thead>\n",
       "  <tbody>\n",
       "    <tr>\n",
       "      <th id=\"T_99877_level0_row0\" class=\"row_heading level0 row0\" >id</th>\n",
       "      <td id=\"T_99877_row0_col0\" class=\"data row0 col0\" >0</td>\n",
       "      <td id=\"T_99877_row0_col1\" class=\"data row0 col1\" >0.0000%</td>\n",
       "      <td id=\"T_99877_row0_col2\" class=\"data row0 col2\" >int64</td>\n",
       "    </tr>\n",
       "    <tr>\n",
       "      <th id=\"T_99877_level0_row1\" class=\"row_heading level0 row1\" >Age</th>\n",
       "      <td id=\"T_99877_row1_col0\" class=\"data row1 col0\" >18705</td>\n",
       "      <td id=\"T_99877_row1_col1\" class=\"data row1 col1\" >1.5588%</td>\n",
       "      <td id=\"T_99877_row1_col2\" class=\"data row1 col2\" >float64</td>\n",
       "    </tr>\n",
       "    <tr>\n",
       "      <th id=\"T_99877_level0_row2\" class=\"row_heading level0 row2\" >Gender</th>\n",
       "      <td id=\"T_99877_row2_col0\" class=\"data row2 col0\" >0</td>\n",
       "      <td id=\"T_99877_row2_col1\" class=\"data row2 col1\" >0.0000%</td>\n",
       "      <td id=\"T_99877_row2_col2\" class=\"data row2 col2\" >object</td>\n",
       "    </tr>\n",
       "    <tr>\n",
       "      <th id=\"T_99877_level0_row3\" class=\"row_heading level0 row3\" >Annual Income</th>\n",
       "      <td id=\"T_99877_row3_col0\" class=\"data row3 col0\" >44949</td>\n",
       "      <td id=\"T_99877_row3_col1\" class=\"data row3 col1\" >3.7457%</td>\n",
       "      <td id=\"T_99877_row3_col2\" class=\"data row3 col2\" >float64</td>\n",
       "    </tr>\n",
       "    <tr>\n",
       "      <th id=\"T_99877_level0_row4\" class=\"row_heading level0 row4\" >Marital Status</th>\n",
       "      <td id=\"T_99877_row4_col0\" class=\"data row4 col0\" >18529</td>\n",
       "      <td id=\"T_99877_row4_col1\" class=\"data row4 col1\" >1.5441%</td>\n",
       "      <td id=\"T_99877_row4_col2\" class=\"data row4 col2\" >object</td>\n",
       "    </tr>\n",
       "    <tr>\n",
       "      <th id=\"T_99877_level0_row5\" class=\"row_heading level0 row5\" >Number of Dependents</th>\n",
       "      <td id=\"T_99877_row5_col0\" class=\"data row5 col0\" >109672</td>\n",
       "      <td id=\"T_99877_row5_col1\" class=\"data row5 col1\" >9.1393%</td>\n",
       "      <td id=\"T_99877_row5_col2\" class=\"data row5 col2\" >float64</td>\n",
       "    </tr>\n",
       "    <tr>\n",
       "      <th id=\"T_99877_level0_row6\" class=\"row_heading level0 row6\" >Education Level</th>\n",
       "      <td id=\"T_99877_row6_col0\" class=\"data row6 col0\" >0</td>\n",
       "      <td id=\"T_99877_row6_col1\" class=\"data row6 col1\" >0.0000%</td>\n",
       "      <td id=\"T_99877_row6_col2\" class=\"data row6 col2\" >object</td>\n",
       "    </tr>\n",
       "    <tr>\n",
       "      <th id=\"T_99877_level0_row7\" class=\"row_heading level0 row7\" >Occupation</th>\n",
       "      <td id=\"T_99877_row7_col0\" class=\"data row7 col0\" >358075</td>\n",
       "      <td id=\"T_99877_row7_col1\" class=\"data row7 col1\" >29.8396%</td>\n",
       "      <td id=\"T_99877_row7_col2\" class=\"data row7 col2\" >object</td>\n",
       "    </tr>\n",
       "    <tr>\n",
       "      <th id=\"T_99877_level0_row8\" class=\"row_heading level0 row8\" >Health Score</th>\n",
       "      <td id=\"T_99877_row8_col0\" class=\"data row8 col0\" >74076</td>\n",
       "      <td id=\"T_99877_row8_col1\" class=\"data row8 col1\" >6.1730%</td>\n",
       "      <td id=\"T_99877_row8_col2\" class=\"data row8 col2\" >float64</td>\n",
       "    </tr>\n",
       "    <tr>\n",
       "      <th id=\"T_99877_level0_row9\" class=\"row_heading level0 row9\" >Location</th>\n",
       "      <td id=\"T_99877_row9_col0\" class=\"data row9 col0\" >0</td>\n",
       "      <td id=\"T_99877_row9_col1\" class=\"data row9 col1\" >0.0000%</td>\n",
       "      <td id=\"T_99877_row9_col2\" class=\"data row9 col2\" >object</td>\n",
       "    </tr>\n",
       "    <tr>\n",
       "      <th id=\"T_99877_level0_row10\" class=\"row_heading level0 row10\" >Policy Type</th>\n",
       "      <td id=\"T_99877_row10_col0\" class=\"data row10 col0\" >0</td>\n",
       "      <td id=\"T_99877_row10_col1\" class=\"data row10 col1\" >0.0000%</td>\n",
       "      <td id=\"T_99877_row10_col2\" class=\"data row10 col2\" >object</td>\n",
       "    </tr>\n",
       "    <tr>\n",
       "      <th id=\"T_99877_level0_row11\" class=\"row_heading level0 row11\" >Previous Claims</th>\n",
       "      <td id=\"T_99877_row11_col0\" class=\"data row11 col0\" >364029</td>\n",
       "      <td id=\"T_99877_row11_col1\" class=\"data row11 col1\" >30.3358%</td>\n",
       "      <td id=\"T_99877_row11_col2\" class=\"data row11 col2\" >float64</td>\n",
       "    </tr>\n",
       "    <tr>\n",
       "      <th id=\"T_99877_level0_row12\" class=\"row_heading level0 row12\" >Vehicle Age</th>\n",
       "      <td id=\"T_99877_row12_col0\" class=\"data row12 col0\" >6</td>\n",
       "      <td id=\"T_99877_row12_col1\" class=\"data row12 col1\" >0.0005%</td>\n",
       "      <td id=\"T_99877_row12_col2\" class=\"data row12 col2\" >float64</td>\n",
       "    </tr>\n",
       "    <tr>\n",
       "      <th id=\"T_99877_level0_row13\" class=\"row_heading level0 row13\" >Credit Score</th>\n",
       "      <td id=\"T_99877_row13_col0\" class=\"data row13 col0\" >137882</td>\n",
       "      <td id=\"T_99877_row13_col1\" class=\"data row13 col1\" >11.4902%</td>\n",
       "      <td id=\"T_99877_row13_col2\" class=\"data row13 col2\" >float64</td>\n",
       "    </tr>\n",
       "    <tr>\n",
       "      <th id=\"T_99877_level0_row14\" class=\"row_heading level0 row14\" >Insurance Duration</th>\n",
       "      <td id=\"T_99877_row14_col0\" class=\"data row14 col0\" >1</td>\n",
       "      <td id=\"T_99877_row14_col1\" class=\"data row14 col1\" >0.0001%</td>\n",
       "      <td id=\"T_99877_row14_col2\" class=\"data row14 col2\" >float64</td>\n",
       "    </tr>\n",
       "    <tr>\n",
       "      <th id=\"T_99877_level0_row15\" class=\"row_heading level0 row15\" >Policy Start Date</th>\n",
       "      <td id=\"T_99877_row15_col0\" class=\"data row15 col0\" >0</td>\n",
       "      <td id=\"T_99877_row15_col1\" class=\"data row15 col1\" >0.0000%</td>\n",
       "      <td id=\"T_99877_row15_col2\" class=\"data row15 col2\" >object</td>\n",
       "    </tr>\n",
       "    <tr>\n",
       "      <th id=\"T_99877_level0_row16\" class=\"row_heading level0 row16\" >Customer Feedback</th>\n",
       "      <td id=\"T_99877_row16_col0\" class=\"data row16 col0\" >77824</td>\n",
       "      <td id=\"T_99877_row16_col1\" class=\"data row16 col1\" >6.4853%</td>\n",
       "      <td id=\"T_99877_row16_col2\" class=\"data row16 col2\" >object</td>\n",
       "    </tr>\n",
       "    <tr>\n",
       "      <th id=\"T_99877_level0_row17\" class=\"row_heading level0 row17\" >Smoking Status</th>\n",
       "      <td id=\"T_99877_row17_col0\" class=\"data row17 col0\" >0</td>\n",
       "      <td id=\"T_99877_row17_col1\" class=\"data row17 col1\" >0.0000%</td>\n",
       "      <td id=\"T_99877_row17_col2\" class=\"data row17 col2\" >object</td>\n",
       "    </tr>\n",
       "    <tr>\n",
       "      <th id=\"T_99877_level0_row18\" class=\"row_heading level0 row18\" >Exercise Frequency</th>\n",
       "      <td id=\"T_99877_row18_col0\" class=\"data row18 col0\" >0</td>\n",
       "      <td id=\"T_99877_row18_col1\" class=\"data row18 col1\" >0.0000%</td>\n",
       "      <td id=\"T_99877_row18_col2\" class=\"data row18 col2\" >object</td>\n",
       "    </tr>\n",
       "    <tr>\n",
       "      <th id=\"T_99877_level0_row19\" class=\"row_heading level0 row19\" >Property Type</th>\n",
       "      <td id=\"T_99877_row19_col0\" class=\"data row19 col0\" >0</td>\n",
       "      <td id=\"T_99877_row19_col1\" class=\"data row19 col1\" >0.0000%</td>\n",
       "      <td id=\"T_99877_row19_col2\" class=\"data row19 col2\" >object</td>\n",
       "    </tr>\n",
       "    <tr>\n",
       "      <th id=\"T_99877_level0_row20\" class=\"row_heading level0 row20\" >Premium Amount</th>\n",
       "      <td id=\"T_99877_row20_col0\" class=\"data row20 col0\" >0</td>\n",
       "      <td id=\"T_99877_row20_col1\" class=\"data row20 col1\" >0.0000%</td>\n",
       "      <td id=\"T_99877_row20_col2\" class=\"data row20 col2\" >float64</td>\n",
       "    </tr>\n",
       "  </tbody>\n",
       "</table>\n"
      ],
      "text/plain": [
       "<pandas.io.formats.style.Styler at 0x7841a9561d50>"
      ]
     },
     "execution_count": 13,
     "metadata": {},
     "output_type": "execute_result"
    }
   ],
   "source": [
    "inspectMissingValues(train)"
   ]
  },
  {
   "cell_type": "code",
   "execution_count": 14,
   "id": "e93ed92a",
   "metadata": {
    "execution": {
     "iopub.execute_input": "2024-12-31T19:43:34.069080Z",
     "iopub.status.busy": "2024-12-31T19:43:34.068813Z",
     "iopub.status.idle": "2024-12-31T19:43:34.421730Z",
     "shell.execute_reply": "2024-12-31T19:43:34.420936Z"
    },
    "papermill": {
     "duration": 0.368663,
     "end_time": "2024-12-31T19:43:34.423076",
     "exception": false,
     "start_time": "2024-12-31T19:43:34.054413",
     "status": "completed"
    },
    "tags": []
   },
   "outputs": [
    {
     "data": {
      "text/html": [
       "<style type=\"text/css\">\n",
       "#T_1dc4f_row0_col1, #T_1dc4f_row2_col1, #T_1dc4f_row6_col1, #T_1dc4f_row9_col1, #T_1dc4f_row10_col1, #T_1dc4f_row15_col1, #T_1dc4f_row17_col1, #T_1dc4f_row18_col1, #T_1dc4f_row19_col1 {\n",
       "  color: None;\n",
       "}\n",
       "#T_1dc4f_row1_col1, #T_1dc4f_row3_col1, #T_1dc4f_row4_col1, #T_1dc4f_row12_col1, #T_1dc4f_row14_col1 {\n",
       "  color: yellow;\n",
       "}\n",
       "#T_1dc4f_row5_col1, #T_1dc4f_row7_col1, #T_1dc4f_row8_col1, #T_1dc4f_row11_col1, #T_1dc4f_row13_col1, #T_1dc4f_row16_col1 {\n",
       "  color: red;\n",
       "}\n",
       "</style>\n",
       "<table id=\"T_1dc4f\">\n",
       "  <thead>\n",
       "    <tr>\n",
       "      <th class=\"blank level0\" >&nbsp;</th>\n",
       "      <th id=\"T_1dc4f_level0_col0\" class=\"col_heading level0 col0\" >Missing Values Count</th>\n",
       "      <th id=\"T_1dc4f_level0_col1\" class=\"col_heading level0 col1\" >Proportion (%)</th>\n",
       "      <th id=\"T_1dc4f_level0_col2\" class=\"col_heading level0 col2\" >Data Type</th>\n",
       "    </tr>\n",
       "  </thead>\n",
       "  <tbody>\n",
       "    <tr>\n",
       "      <th id=\"T_1dc4f_level0_row0\" class=\"row_heading level0 row0\" >id</th>\n",
       "      <td id=\"T_1dc4f_row0_col0\" class=\"data row0 col0\" >0</td>\n",
       "      <td id=\"T_1dc4f_row0_col1\" class=\"data row0 col1\" >0.0000%</td>\n",
       "      <td id=\"T_1dc4f_row0_col2\" class=\"data row0 col2\" >int64</td>\n",
       "    </tr>\n",
       "    <tr>\n",
       "      <th id=\"T_1dc4f_level0_row1\" class=\"row_heading level0 row1\" >Age</th>\n",
       "      <td id=\"T_1dc4f_row1_col0\" class=\"data row1 col0\" >12489</td>\n",
       "      <td id=\"T_1dc4f_row1_col1\" class=\"data row1 col1\" >1.5611%</td>\n",
       "      <td id=\"T_1dc4f_row1_col2\" class=\"data row1 col2\" >float64</td>\n",
       "    </tr>\n",
       "    <tr>\n",
       "      <th id=\"T_1dc4f_level0_row2\" class=\"row_heading level0 row2\" >Gender</th>\n",
       "      <td id=\"T_1dc4f_row2_col0\" class=\"data row2 col0\" >0</td>\n",
       "      <td id=\"T_1dc4f_row2_col1\" class=\"data row2 col1\" >0.0000%</td>\n",
       "      <td id=\"T_1dc4f_row2_col2\" class=\"data row2 col2\" >object</td>\n",
       "    </tr>\n",
       "    <tr>\n",
       "      <th id=\"T_1dc4f_level0_row3\" class=\"row_heading level0 row3\" >Annual Income</th>\n",
       "      <td id=\"T_1dc4f_row3_col0\" class=\"data row3 col0\" >29860</td>\n",
       "      <td id=\"T_1dc4f_row3_col1\" class=\"data row3 col1\" >3.7325%</td>\n",
       "      <td id=\"T_1dc4f_row3_col2\" class=\"data row3 col2\" >float64</td>\n",
       "    </tr>\n",
       "    <tr>\n",
       "      <th id=\"T_1dc4f_level0_row4\" class=\"row_heading level0 row4\" >Marital Status</th>\n",
       "      <td id=\"T_1dc4f_row4_col0\" class=\"data row4 col0\" >12336</td>\n",
       "      <td id=\"T_1dc4f_row4_col1\" class=\"data row4 col1\" >1.5420%</td>\n",
       "      <td id=\"T_1dc4f_row4_col2\" class=\"data row4 col2\" >object</td>\n",
       "    </tr>\n",
       "    <tr>\n",
       "      <th id=\"T_1dc4f_level0_row5\" class=\"row_heading level0 row5\" >Number of Dependents</th>\n",
       "      <td id=\"T_1dc4f_row5_col0\" class=\"data row5 col0\" >73130</td>\n",
       "      <td id=\"T_1dc4f_row5_col1\" class=\"data row5 col1\" >9.1412%</td>\n",
       "      <td id=\"T_1dc4f_row5_col2\" class=\"data row5 col2\" >float64</td>\n",
       "    </tr>\n",
       "    <tr>\n",
       "      <th id=\"T_1dc4f_level0_row6\" class=\"row_heading level0 row6\" >Education Level</th>\n",
       "      <td id=\"T_1dc4f_row6_col0\" class=\"data row6 col0\" >0</td>\n",
       "      <td id=\"T_1dc4f_row6_col1\" class=\"data row6 col1\" >0.0000%</td>\n",
       "      <td id=\"T_1dc4f_row6_col2\" class=\"data row6 col2\" >object</td>\n",
       "    </tr>\n",
       "    <tr>\n",
       "      <th id=\"T_1dc4f_level0_row7\" class=\"row_heading level0 row7\" >Occupation</th>\n",
       "      <td id=\"T_1dc4f_row7_col0\" class=\"data row7 col0\" >239125</td>\n",
       "      <td id=\"T_1dc4f_row7_col1\" class=\"data row7 col1\" >29.8906%</td>\n",
       "      <td id=\"T_1dc4f_row7_col2\" class=\"data row7 col2\" >object</td>\n",
       "    </tr>\n",
       "    <tr>\n",
       "      <th id=\"T_1dc4f_level0_row8\" class=\"row_heading level0 row8\" >Health Score</th>\n",
       "      <td id=\"T_1dc4f_row8_col0\" class=\"data row8 col0\" >49449</td>\n",
       "      <td id=\"T_1dc4f_row8_col1\" class=\"data row8 col1\" >6.1811%</td>\n",
       "      <td id=\"T_1dc4f_row8_col2\" class=\"data row8 col2\" >float64</td>\n",
       "    </tr>\n",
       "    <tr>\n",
       "      <th id=\"T_1dc4f_level0_row9\" class=\"row_heading level0 row9\" >Location</th>\n",
       "      <td id=\"T_1dc4f_row9_col0\" class=\"data row9 col0\" >0</td>\n",
       "      <td id=\"T_1dc4f_row9_col1\" class=\"data row9 col1\" >0.0000%</td>\n",
       "      <td id=\"T_1dc4f_row9_col2\" class=\"data row9 col2\" >object</td>\n",
       "    </tr>\n",
       "    <tr>\n",
       "      <th id=\"T_1dc4f_level0_row10\" class=\"row_heading level0 row10\" >Policy Type</th>\n",
       "      <td id=\"T_1dc4f_row10_col0\" class=\"data row10 col0\" >0</td>\n",
       "      <td id=\"T_1dc4f_row10_col1\" class=\"data row10 col1\" >0.0000%</td>\n",
       "      <td id=\"T_1dc4f_row10_col2\" class=\"data row10 col2\" >object</td>\n",
       "    </tr>\n",
       "    <tr>\n",
       "      <th id=\"T_1dc4f_level0_row11\" class=\"row_heading level0 row11\" >Previous Claims</th>\n",
       "      <td id=\"T_1dc4f_row11_col0\" class=\"data row11 col0\" >242802</td>\n",
       "      <td id=\"T_1dc4f_row11_col1\" class=\"data row11 col1\" >30.3503%</td>\n",
       "      <td id=\"T_1dc4f_row11_col2\" class=\"data row11 col2\" >float64</td>\n",
       "    </tr>\n",
       "    <tr>\n",
       "      <th id=\"T_1dc4f_level0_row12\" class=\"row_heading level0 row12\" >Vehicle Age</th>\n",
       "      <td id=\"T_1dc4f_row12_col0\" class=\"data row12 col0\" >3</td>\n",
       "      <td id=\"T_1dc4f_row12_col1\" class=\"data row12 col1\" >0.0004%</td>\n",
       "      <td id=\"T_1dc4f_row12_col2\" class=\"data row12 col2\" >float64</td>\n",
       "    </tr>\n",
       "    <tr>\n",
       "      <th id=\"T_1dc4f_level0_row13\" class=\"row_heading level0 row13\" >Credit Score</th>\n",
       "      <td id=\"T_1dc4f_row13_col0\" class=\"data row13 col0\" >91451</td>\n",
       "      <td id=\"T_1dc4f_row13_col1\" class=\"data row13 col1\" >11.4314%</td>\n",
       "      <td id=\"T_1dc4f_row13_col2\" class=\"data row13 col2\" >float64</td>\n",
       "    </tr>\n",
       "    <tr>\n",
       "      <th id=\"T_1dc4f_level0_row14\" class=\"row_heading level0 row14\" >Insurance Duration</th>\n",
       "      <td id=\"T_1dc4f_row14_col0\" class=\"data row14 col0\" >2</td>\n",
       "      <td id=\"T_1dc4f_row14_col1\" class=\"data row14 col1\" >0.0003%</td>\n",
       "      <td id=\"T_1dc4f_row14_col2\" class=\"data row14 col2\" >float64</td>\n",
       "    </tr>\n",
       "    <tr>\n",
       "      <th id=\"T_1dc4f_level0_row15\" class=\"row_heading level0 row15\" >Policy Start Date</th>\n",
       "      <td id=\"T_1dc4f_row15_col0\" class=\"data row15 col0\" >0</td>\n",
       "      <td id=\"T_1dc4f_row15_col1\" class=\"data row15 col1\" >0.0000%</td>\n",
       "      <td id=\"T_1dc4f_row15_col2\" class=\"data row15 col2\" >object</td>\n",
       "    </tr>\n",
       "    <tr>\n",
       "      <th id=\"T_1dc4f_level0_row16\" class=\"row_heading level0 row16\" >Customer Feedback</th>\n",
       "      <td id=\"T_1dc4f_row16_col0\" class=\"data row16 col0\" >52276</td>\n",
       "      <td id=\"T_1dc4f_row16_col1\" class=\"data row16 col1\" >6.5345%</td>\n",
       "      <td id=\"T_1dc4f_row16_col2\" class=\"data row16 col2\" >object</td>\n",
       "    </tr>\n",
       "    <tr>\n",
       "      <th id=\"T_1dc4f_level0_row17\" class=\"row_heading level0 row17\" >Smoking Status</th>\n",
       "      <td id=\"T_1dc4f_row17_col0\" class=\"data row17 col0\" >0</td>\n",
       "      <td id=\"T_1dc4f_row17_col1\" class=\"data row17 col1\" >0.0000%</td>\n",
       "      <td id=\"T_1dc4f_row17_col2\" class=\"data row17 col2\" >object</td>\n",
       "    </tr>\n",
       "    <tr>\n",
       "      <th id=\"T_1dc4f_level0_row18\" class=\"row_heading level0 row18\" >Exercise Frequency</th>\n",
       "      <td id=\"T_1dc4f_row18_col0\" class=\"data row18 col0\" >0</td>\n",
       "      <td id=\"T_1dc4f_row18_col1\" class=\"data row18 col1\" >0.0000%</td>\n",
       "      <td id=\"T_1dc4f_row18_col2\" class=\"data row18 col2\" >object</td>\n",
       "    </tr>\n",
       "    <tr>\n",
       "      <th id=\"T_1dc4f_level0_row19\" class=\"row_heading level0 row19\" >Property Type</th>\n",
       "      <td id=\"T_1dc4f_row19_col0\" class=\"data row19 col0\" >0</td>\n",
       "      <td id=\"T_1dc4f_row19_col1\" class=\"data row19 col1\" >0.0000%</td>\n",
       "      <td id=\"T_1dc4f_row19_col2\" class=\"data row19 col2\" >object</td>\n",
       "    </tr>\n",
       "  </tbody>\n",
       "</table>\n"
      ],
      "text/plain": [
       "<pandas.io.formats.style.Styler at 0x7841a9563610>"
      ]
     },
     "execution_count": 14,
     "metadata": {},
     "output_type": "execute_result"
    }
   ],
   "source": [
    "inspectMissingValues(test)"
   ]
  },
  {
   "cell_type": "markdown",
   "id": "20f324b3",
   "metadata": {
    "papermill": {
     "duration": 0.014592,
     "end_time": "2024-12-31T19:43:34.453092",
     "exception": false,
     "start_time": "2024-12-31T19:43:34.438500",
     "status": "completed"
    },
    "tags": []
   },
   "source": [
    "# Impute Missing Value"
   ]
  },
  {
   "cell_type": "markdown",
   "id": "87e1ee90",
   "metadata": {
    "papermill": {
     "duration": 0.013325,
     "end_time": "2024-12-31T19:43:34.479978",
     "exception": false,
     "start_time": "2024-12-31T19:43:34.466653",
     "status": "completed"
    },
    "tags": []
   },
   "source": [
    "The imputation method should \n",
    "- preserve the distribution of original data\n",
    "- be stable\n",
    "- be quick to implement\n",
    "\n",
    "Median is used for numerical features and an indicator class is used for categorical features."
   ]
  },
  {
   "cell_type": "code",
   "execution_count": 15,
   "id": "49e1277b",
   "metadata": {
    "execution": {
     "iopub.execute_input": "2024-12-31T19:43:34.507873Z",
     "iopub.status.busy": "2024-12-31T19:43:34.507604Z",
     "iopub.status.idle": "2024-12-31T19:43:35.969465Z",
     "shell.execute_reply": "2024-12-31T19:43:35.968733Z"
    },
    "papermill": {
     "duration": 1.477394,
     "end_time": "2024-12-31T19:43:35.970889",
     "exception": false,
     "start_time": "2024-12-31T19:43:34.493495",
     "status": "completed"
    },
    "tags": []
   },
   "outputs": [],
   "source": [
    "for num_col in train.select_dtypes('float64').columns:\n",
    "    if num_col == \"Premium Amount\":\n",
    "        continue\n",
    "    \n",
    "    train[num_col].fillna(value = train[num_col].median(), inplace = True)\n",
    "    test[num_col].fillna(value = train[num_col].median(), inplace = True)\n",
    "\n",
    "for cat_col in train.select_dtypes('object').columns:\n",
    "    train[cat_col].fillna(\"Unknown\", inplace=True)\n",
    "    test[cat_col].fillna(\"Unknown\", inplace=True)"
   ]
  },
  {
   "cell_type": "code",
   "execution_count": 16,
   "id": "0264984b",
   "metadata": {
    "execution": {
     "iopub.execute_input": "2024-12-31T19:43:36.003200Z",
     "iopub.status.busy": "2024-12-31T19:43:36.002890Z",
     "iopub.status.idle": "2024-12-31T19:43:36.536401Z",
     "shell.execute_reply": "2024-12-31T19:43:36.535543Z"
    },
    "papermill": {
     "duration": 0.550811,
     "end_time": "2024-12-31T19:43:36.537863",
     "exception": false,
     "start_time": "2024-12-31T19:43:35.987052",
     "status": "completed"
    },
    "tags": []
   },
   "outputs": [
    {
     "data": {
      "text/plain": [
       "id                      0\n",
       "Age                     0\n",
       "Gender                  0\n",
       "Annual Income           0\n",
       "Marital Status          0\n",
       "Number of Dependents    0\n",
       "Education Level         0\n",
       "Occupation              0\n",
       "Health Score            0\n",
       "Location                0\n",
       "Policy Type             0\n",
       "Previous Claims         0\n",
       "Vehicle Age             0\n",
       "Credit Score            0\n",
       "Insurance Duration      0\n",
       "Policy Start Date       0\n",
       "Customer Feedback       0\n",
       "Smoking Status          0\n",
       "Exercise Frequency      0\n",
       "Property Type           0\n",
       "Premium Amount          0\n",
       "dtype: int64"
      ]
     },
     "execution_count": 16,
     "metadata": {},
     "output_type": "execute_result"
    }
   ],
   "source": [
    "train.isnull().sum()"
   ]
  },
  {
   "cell_type": "code",
   "execution_count": 17,
   "id": "961acb82",
   "metadata": {
    "execution": {
     "iopub.execute_input": "2024-12-31T19:43:36.567526Z",
     "iopub.status.busy": "2024-12-31T19:43:36.567298Z",
     "iopub.status.idle": "2024-12-31T19:43:36.915050Z",
     "shell.execute_reply": "2024-12-31T19:43:36.914219Z"
    },
    "papermill": {
     "duration": 0.363603,
     "end_time": "2024-12-31T19:43:36.916427",
     "exception": false,
     "start_time": "2024-12-31T19:43:36.552824",
     "status": "completed"
    },
    "tags": []
   },
   "outputs": [
    {
     "data": {
      "text/plain": [
       "id                      0\n",
       "Age                     0\n",
       "Gender                  0\n",
       "Annual Income           0\n",
       "Marital Status          0\n",
       "Number of Dependents    0\n",
       "Education Level         0\n",
       "Occupation              0\n",
       "Health Score            0\n",
       "Location                0\n",
       "Policy Type             0\n",
       "Previous Claims         0\n",
       "Vehicle Age             0\n",
       "Credit Score            0\n",
       "Insurance Duration      0\n",
       "Policy Start Date       0\n",
       "Customer Feedback       0\n",
       "Smoking Status          0\n",
       "Exercise Frequency      0\n",
       "Property Type           0\n",
       "dtype: int64"
      ]
     },
     "execution_count": 17,
     "metadata": {},
     "output_type": "execute_result"
    }
   ],
   "source": [
    "test.isnull().sum()"
   ]
  },
  {
   "cell_type": "markdown",
   "id": "9a234dd3",
   "metadata": {
    "papermill": {
     "duration": 0.014113,
     "end_time": "2024-12-31T19:43:36.945328",
     "exception": false,
     "start_time": "2024-12-31T19:43:36.931215",
     "status": "completed"
    },
    "tags": []
   },
   "source": [
    "# Feature Transformation"
   ]
  },
  {
   "cell_type": "code",
   "execution_count": 18,
   "id": "c1d85223",
   "metadata": {
    "execution": {
     "iopub.execute_input": "2024-12-31T19:43:36.973780Z",
     "iopub.status.busy": "2024-12-31T19:43:36.973551Z",
     "iopub.status.idle": "2024-12-31T19:43:36.982659Z",
     "shell.execute_reply": "2024-12-31T19:43:36.982105Z"
    },
    "papermill": {
     "duration": 0.024644,
     "end_time": "2024-12-31T19:43:36.983907",
     "exception": false,
     "start_time": "2024-12-31T19:43:36.959263",
     "status": "completed"
    },
    "tags": []
   },
   "outputs": [],
   "source": [
    "train['Log Premium Amount'] = np.log(train['Premium Amount']+1)"
   ]
  },
  {
   "cell_type": "markdown",
   "id": "c5bdf169",
   "metadata": {
    "papermill": {
     "duration": 0.013833,
     "end_time": "2024-12-31T19:43:37.011944",
     "exception": false,
     "start_time": "2024-12-31T19:43:36.998111",
     "status": "completed"
    },
    "tags": []
   },
   "source": [
    "### Skewness of numerical features"
   ]
  },
  {
   "cell_type": "markdown",
   "id": "767a73f9",
   "metadata": {
    "papermill": {
     "duration": 0.01372,
     "end_time": "2024-12-31T19:43:37.039589",
     "exception": false,
     "start_time": "2024-12-31T19:43:37.025869",
     "status": "completed"
    },
    "tags": []
   },
   "source": [
    "`Annual Income` and `Health Score` are positively skewed, apply one of these three transformations:\n",
    "- Logarithmic\n",
    "- Square Root\n",
    "- Box-Cox"
   ]
  },
  {
   "cell_type": "code",
   "execution_count": 19,
   "id": "04809d43",
   "metadata": {
    "execution": {
     "iopub.execute_input": "2024-12-31T19:43:37.068525Z",
     "iopub.status.busy": "2024-12-31T19:43:37.068263Z",
     "iopub.status.idle": "2024-12-31T19:43:49.436152Z",
     "shell.execute_reply": "2024-12-31T19:43:49.435428Z"
    },
    "papermill": {
     "duration": 12.38423,
     "end_time": "2024-12-31T19:43:49.437815",
     "exception": false,
     "start_time": "2024-12-31T19:43:37.053585",
     "status": "completed"
    },
    "tags": []
   },
   "outputs": [],
   "source": [
    "train['Log Annual Income'] = np.log(train['Annual Income'])\n",
    "train['SQRT Annual Income'] = np.sqrt(train['Annual Income'])\n",
    "train['Boxcox Annual Income'], annual_income_lmbda =  boxcox(train['Annual Income'])\n",
    "\n",
    "test['Log Annual Income'] = np.log(test['Annual Income'])\n",
    "test['SQRT Annual Income'] = np.sqrt(test['Annual Income'])\n",
    "test['Boxcox Annual Income'], _ =  boxcox(test['Annual Income'])"
   ]
  },
  {
   "cell_type": "code",
   "execution_count": 20,
   "id": "f26820d8",
   "metadata": {
    "execution": {
     "iopub.execute_input": "2024-12-31T19:43:49.467389Z",
     "iopub.status.busy": "2024-12-31T19:43:49.467150Z",
     "iopub.status.idle": "2024-12-31T19:43:50.462398Z",
     "shell.execute_reply": "2024-12-31T19:43:50.461524Z"
    },
    "papermill": {
     "duration": 1.011868,
     "end_time": "2024-12-31T19:43:50.464261",
     "exception": false,
     "start_time": "2024-12-31T19:43:49.452393",
     "status": "completed"
    },
    "tags": []
   },
   "outputs": [
    {
     "data": {
      "image/png": "[encoded data removed]",
      "text/plain": [
       "<Figure size 2000x600 with 4 Axes>"
      ]
     },
     "metadata": {},
     "output_type": "display_data"
    }
   ],
   "source": [
    "fig, axes = plt.subplots(nrows=1, ncols=4, figsize=(20,6))\n",
    "\n",
    "train['Annual Income'].hist(ax=axes[0], bins=20, color='skyblue', edgecolor='black', linewidth=0.5)\n",
    "axes[0].set_title(f'Annual Income, skewness = {train[\"Annual Income\"].skew()}', fontsize=9)\n",
    "axes[0].tick_params(axis='both', which='major', labelsize=6)\n",
    "\n",
    "train['Log Annual Income'].hist(ax=axes[1], bins=20, color='skyblue', edgecolor='black', linewidth=0.5)\n",
    "axes[1].set_title(f'Log Annual Income, skewness = {train[\"Log Annual Income\"].skew()}', fontsize=9)\n",
    "axes[1].tick_params(axis='both', which='major', labelsize=6)\n",
    "\n",
    "train['SQRT Annual Income'].hist(ax=axes[2], bins=20, color='skyblue', edgecolor='black', linewidth=0.5)\n",
    "axes[2].set_title(f'SQRT Annual Income, skewness = {train[\"SQRT Annual Income\"].skew()}', fontsize=9)\n",
    "axes[2].tick_params(axis='both', which='major', labelsize=6)\n",
    "\n",
    "train['Boxcox Annual Income'].hist(ax=axes[3], bins=20, color='skyblue', edgecolor='black', linewidth=0.5)\n",
    "axes[3].set_title(f'Box-Cox Annual Income, skewness = {train[\"Boxcox Annual Income\"].skew()}', fontsize=9)\n",
    "axes[3].tick_params(axis='both', which='major', labelsize=6)"
   ]
  },
  {
   "cell_type": "code",
   "execution_count": 21,
   "id": "825e0a43",
   "metadata": {
    "execution": {
     "iopub.execute_input": "2024-12-31T19:43:50.499270Z",
     "iopub.status.busy": "2024-12-31T19:43:50.498995Z",
     "iopub.status.idle": "2024-12-31T19:44:00.200708Z",
     "shell.execute_reply": "2024-12-31T19:44:00.200052Z"
    },
    "papermill": {
     "duration": 9.720868,
     "end_time": "2024-12-31T19:44:00.202239",
     "exception": false,
     "start_time": "2024-12-31T19:43:50.481371",
     "status": "completed"
    },
    "tags": []
   },
   "outputs": [],
   "source": [
    "train['Log Health Score'] = np.log(train['Health Score'])\n",
    "train['SQRT Health Score'] = np.sqrt(train['Health Score'])\n",
    "train['Boxcox Health Score'], health_score_lmbda =  boxcox(train['Health Score']) \n",
    "\n",
    "test['Log Health Score'] = np.log(test['Health Score'])\n",
    "test['SQRT Health Score'] = np.sqrt(test['Health Score'])\n",
    "test['Boxcox Health Score'], _ =  boxcox(test['Health Score']) "
   ]
  },
  {
   "cell_type": "code",
   "execution_count": 22,
   "id": "7c5b8abb",
   "metadata": {
    "execution": {
     "iopub.execute_input": "2024-12-31T19:44:00.234305Z",
     "iopub.status.busy": "2024-12-31T19:44:00.234049Z",
     "iopub.status.idle": "2024-12-31T19:44:01.327866Z",
     "shell.execute_reply": "2024-12-31T19:44:01.327055Z"
    },
    "papermill": {
     "duration": 1.112023,
     "end_time": "2024-12-31T19:44:01.329742",
     "exception": false,
     "start_time": "2024-12-31T19:44:00.217719",
     "status": "completed"
    },
    "tags": []
   },
   "outputs": [
    {
     "data": {
      "image/png": "[encoded data removed]",
      "text/plain": [
       "<Figure size 2000x600 with 4 Axes>"
      ]
     },
     "metadata": {},
     "output_type": "display_data"
    }
   ],
   "source": [
    "fig, axes = plt.subplots(nrows=1, ncols=4, figsize=(20,6))\n",
    "\n",
    "train['Health Score'].hist(ax=axes[0], bins=20, color='skyblue', edgecolor='black', linewidth=0.5)\n",
    "axes[0].set_title(f'Health Score, skewness = {train[\"Health Score\"].skew()}', fontsize=9)\n",
    "axes[0].tick_params(axis='both', which='major', labelsize=6)\n",
    "\n",
    "train['Log Health Score'].hist(ax=axes[1], bins=20, color='skyblue', edgecolor='black', linewidth=0.5)\n",
    "axes[1].set_title(f'Log Health Score, skewness = {train[\"Log Health Score\"].skew()}', fontsize=9)\n",
    "axes[1].tick_params(axis='both', which='major', labelsize=6)\n",
    "\n",
    "train['SQRT Health Score'].hist(ax=axes[2], bins=20, color='skyblue', edgecolor='black', linewidth=0.5)\n",
    "axes[2].set_title(f'SQRT Health Score, skewness = {train[\"SQRT Health Score\"].skew()}', fontsize=9)\n",
    "axes[2].tick_params(axis='both', which='major', labelsize=6)\n",
    "\n",
    "train['Boxcox Health Score'].hist(ax=axes[3], bins=20, color='skyblue', edgecolor='black', linewidth=0.5)\n",
    "axes[3].set_title(f'Box-Cox Health Score, skewness = {train[\"Boxcox Health Score\"].skew()}', fontsize=9)\n",
    "axes[3].tick_params(axis='both', which='major', labelsize=6)"
   ]
  },
  {
   "cell_type": "markdown",
   "id": "a6d02f89",
   "metadata": {
    "papermill": {
     "duration": 0.015791,
     "end_time": "2024-12-31T19:44:01.362794",
     "exception": false,
     "start_time": "2024-12-31T19:44:01.347003",
     "status": "completed"
    },
    "tags": []
   },
   "source": [
    "### Periodic Encoding for `Policy Start Date`"
   ]
  },
  {
   "cell_type": "code",
   "execution_count": 23,
   "id": "0a812c37",
   "metadata": {
    "execution": {
     "iopub.execute_input": "2024-12-31T19:44:01.395211Z",
     "iopub.status.busy": "2024-12-31T19:44:01.394967Z",
     "iopub.status.idle": "2024-12-31T19:44:01.402179Z",
     "shell.execute_reply": "2024-12-31T19:44:01.401204Z"
    },
    "papermill": {
     "duration": 0.024931,
     "end_time": "2024-12-31T19:44:01.403521",
     "exception": false,
     "start_time": "2024-12-31T19:44:01.378590",
     "status": "completed"
    },
    "tags": []
   },
   "outputs": [
    {
     "name": "stdout",
     "output_type": "stream",
     "text": [
      "Raw format: 2023-12-23 15:21:39.134960\n",
      "Transformed: 2023-12-23\n",
      "year: 2023, month: 12, day: 23\n"
     ]
    }
   ],
   "source": [
    "# Example\n",
    "datetime = train['Policy Start Date'].values[0]\n",
    "print(f'Raw format: {datetime}')\n",
    "\n",
    "datetime = pd.to_datetime(datetime).date()\n",
    "print(f'Transformed: {datetime}')\n",
    "\n",
    "print(f'year: {datetime.year}, month: {datetime.month}, day: {datetime.day}')"
   ]
  },
  {
   "cell_type": "code",
   "execution_count": 24,
   "id": "b96fd23b",
   "metadata": {
    "execution": {
     "iopub.execute_input": "2024-12-31T19:44:01.436240Z",
     "iopub.status.busy": "2024-12-31T19:44:01.436017Z",
     "iopub.status.idle": "2024-12-31T19:44:07.976066Z",
     "shell.execute_reply": "2024-12-31T19:44:07.975386Z"
    },
    "papermill": {
     "duration": 6.558132,
     "end_time": "2024-12-31T19:44:07.977597",
     "exception": false,
     "start_time": "2024-12-31T19:44:01.419465",
     "status": "completed"
    },
    "tags": []
   },
   "outputs": [],
   "source": [
    "for df in [train, test]:\n",
    "    df['Policy Start Date'] = pd.to_datetime(df['Policy Start Date'])\n",
    "    df['Policy Start Date'] = df['Policy Start Date'].apply(lambda dt: dt.date())\n",
    "\n",
    "    df['Policy Start Date_Year'] = df['Policy Start Date'].apply(lambda dt: dt.year)\n",
    "\n",
    "    df['Policy Start Date_Month'] = df['Policy Start Date'].apply(lambda dt: dt.month)\n",
    "    df['Policy Start Date_Month_sin'] = np.sin(2 * np.pi * df['Policy Start Date_Month'] / 12)\n",
    "    df['Policy Start Date_Month_cos'] = np.cos(2 * np.pi * df['Policy Start Date_Month'] / 12)\n",
    "\n",
    "    df['Policy Start Date_Day'] = df['Policy Start Date'].apply(lambda dt: dt.day)"
   ]
  },
  {
   "cell_type": "markdown",
   "id": "1758cbd7",
   "metadata": {
    "papermill": {
     "duration": 0.015708,
     "end_time": "2024-12-31T19:44:08.010362",
     "exception": false,
     "start_time": "2024-12-31T19:44:07.994654",
     "status": "completed"
    },
    "tags": []
   },
   "source": [
    "### Encode Categorical Features"
   ]
  },
  {
   "cell_type": "code",
   "execution_count": 25,
   "id": "b7c8d1f5",
   "metadata": {
    "execution": {
     "iopub.execute_input": "2024-12-31T19:44:08.042818Z",
     "iopub.status.busy": "2024-12-31T19:44:08.042590Z",
     "iopub.status.idle": "2024-12-31T19:44:09.975362Z",
     "shell.execute_reply": "2024-12-31T19:44:09.974388Z"
    },
    "papermill": {
     "duration": 1.950656,
     "end_time": "2024-12-31T19:44:09.976908",
     "exception": false,
     "start_time": "2024-12-31T19:44:08.026252",
     "status": "completed"
    },
    "tags": []
   },
   "outputs": [
    {
     "name": "stdout",
     "output_type": "stream",
     "text": [
      "Gender: ['Female' 'Male']\n",
      "Marital Status: ['Married' 'Divorced' 'Single' 'Unknown']\n",
      "Education Level: [\"Bachelor's\" \"Master's\" 'High School' 'PhD']\n",
      "Occupation: ['Self-Employed' 'Unknown' 'Employed' 'Unemployed']\n",
      "Location: ['Urban' 'Rural' 'Suburban']\n",
      "Policy Type: ['Premium' 'Comprehensive' 'Basic']\n",
      "Policy Start Date: [datetime.date(2023, 12, 23) datetime.date(2023, 6, 12)\n",
      " datetime.date(2023, 9, 30) ... datetime.date(2019, 11, 21)\n",
      " datetime.date(2023, 5, 4) datetime.date(2022, 1, 28)]\n",
      "Customer Feedback: ['Poor' 'Average' 'Good' 'Unknown']\n",
      "Smoking Status: ['No' 'Yes']\n",
      "Exercise Frequency: ['Weekly' 'Monthly' 'Daily' 'Rarely']\n",
      "Property Type: ['House' 'Apartment' 'Condo']\n"
     ]
    }
   ],
   "source": [
    "cat_columns = train.select_dtypes(include = \"object\").columns\n",
    "\n",
    "for col in cat_columns:\n",
    "    print(f'{col}: {train[col].dropna().unique()}')"
   ]
  },
  {
   "cell_type": "markdown",
   "id": "12568f80",
   "metadata": {
    "papermill": {
     "duration": 0.016496,
     "end_time": "2024-12-31T19:44:10.010597",
     "exception": false,
     "start_time": "2024-12-31T19:44:09.994101",
     "status": "completed"
    },
    "tags": []
   },
   "source": [
    "The following features are ordinal:\n",
    "- `Education Level`\n",
    "- `Customer Feedback`\n",
    "- `Smoking Status`\n",
    "- `Exercise Frequency`\n",
    "\n",
    "Use integer to encode these features"
   ]
  },
  {
   "cell_type": "code",
   "execution_count": 26,
   "id": "ed5dd1a6",
   "metadata": {
    "execution": {
     "iopub.execute_input": "2024-12-31T19:44:10.044605Z",
     "iopub.status.busy": "2024-12-31T19:44:10.044253Z",
     "iopub.status.idle": "2024-12-31T19:44:10.049051Z",
     "shell.execute_reply": "2024-12-31T19:44:10.048174Z"
    },
    "papermill": {
     "duration": 0.023692,
     "end_time": "2024-12-31T19:44:10.050589",
     "exception": false,
     "start_time": "2024-12-31T19:44:10.026897",
     "status": "completed"
    },
    "tags": []
   },
   "outputs": [],
   "source": [
    "def encode_ordinal_feature(column, cat_order, df):\n",
    "    encoder = OrdinalEncoder(categories=[cat_order], handle_unknown='use_encoded_value', unknown_value = np.nan)\n",
    "    df[f'{column}_ordinal encoding'] = encoder.fit_transform(df[[column]]).reshape(-1,)"
   ]
  },
  {
   "cell_type": "code",
   "execution_count": 27,
   "id": "8417e0b3",
   "metadata": {
    "execution": {
     "iopub.execute_input": "2024-12-31T19:44:10.090648Z",
     "iopub.status.busy": "2024-12-31T19:44:10.090395Z",
     "iopub.status.idle": "2024-12-31T19:44:10.094059Z",
     "shell.execute_reply": "2024-12-31T19:44:10.093307Z"
    },
    "papermill": {
     "duration": 0.021818,
     "end_time": "2024-12-31T19:44:10.095360",
     "exception": false,
     "start_time": "2024-12-31T19:44:10.073542",
     "status": "completed"
    },
    "tags": []
   },
   "outputs": [],
   "source": [
    "ordinal_columns_to_order = {'Education Level': ['High School', \"Bachelor's\",\"Master's\", \"PhD\"], \n",
    "                            'Customer Feedback': ['Poor','Average','Good'],\n",
    "                            'Smoking Status': ['No','Yes'],\n",
    "                            \"Exercise Frequency\": ['Rarely', 'Daily', 'Weekly','Monthly']}\n"
   ]
  },
  {
   "cell_type": "code",
   "execution_count": 28,
   "id": "f99cb386",
   "metadata": {
    "execution": {
     "iopub.execute_input": "2024-12-31T19:44:10.128702Z",
     "iopub.status.busy": "2024-12-31T19:44:10.128468Z",
     "iopub.status.idle": "2024-12-31T19:44:11.802381Z",
     "shell.execute_reply": "2024-12-31T19:44:11.801384Z"
    },
    "papermill": {
     "duration": 1.692445,
     "end_time": "2024-12-31T19:44:11.804164",
     "exception": false,
     "start_time": "2024-12-31T19:44:10.111719",
     "status": "completed"
    },
    "tags": []
   },
   "outputs": [],
   "source": [
    "for col in ordinal_columns_to_order:\n",
    "    encode_ordinal_feature(col, ordinal_columns_to_order[col], train)\n",
    "    encode_ordinal_feature(col, ordinal_columns_to_order[col], test)"
   ]
  },
  {
   "cell_type": "markdown",
   "id": "7dbdf111",
   "metadata": {
    "papermill": {
     "duration": 0.016295,
     "end_time": "2024-12-31T19:44:11.837217",
     "exception": false,
     "start_time": "2024-12-31T19:44:11.820922",
     "status": "completed"
    },
    "tags": []
   },
   "source": [
    "The following features are nominal:\n",
    "- `Gender`\n",
    "- `Marital Status`\n",
    "- `Occupation`\n",
    "- `Location`\n",
    "- `Policy Type`\n",
    "- `Property Type`"
   ]
  },
  {
   "cell_type": "code",
   "execution_count": 29,
   "id": "065c0520",
   "metadata": {
    "execution": {
     "iopub.execute_input": "2024-12-31T19:44:11.872933Z",
     "iopub.status.busy": "2024-12-31T19:44:11.872657Z",
     "iopub.status.idle": "2024-12-31T19:44:17.224137Z",
     "shell.execute_reply": "2024-12-31T19:44:17.223242Z"
    },
    "papermill": {
     "duration": 5.37137,
     "end_time": "2024-12-31T19:44:17.225561",
     "exception": false,
     "start_time": "2024-12-31T19:44:11.854191",
     "status": "completed"
    },
    "tags": []
   },
   "outputs": [
    {
     "data": {
      "text/html": [
       "<div>\n",
       "<style scoped>\n",
       "    .dataframe tbody tr th:only-of-type {\n",
       "        vertical-align: middle;\n",
       "    }\n",
       "\n",
       "    .dataframe tbody tr th {\n",
       "        vertical-align: top;\n",
       "    }\n",
       "\n",
       "    .dataframe thead th {\n",
       "        text-align: right;\n",
       "    }\n",
       "</style>\n",
       "<table border=\"1\" class=\"dataframe\">\n",
       "  <thead>\n",
       "    <tr style=\"text-align: right;\">\n",
       "      <th></th>\n",
       "      <th>id</th>\n",
       "      <th>Age</th>\n",
       "      <th>Gender</th>\n",
       "      <th>Annual Income</th>\n",
       "      <th>Marital Status</th>\n",
       "      <th>Number of Dependents</th>\n",
       "      <th>Education Level</th>\n",
       "      <th>Occupation</th>\n",
       "      <th>Health Score</th>\n",
       "      <th>Location</th>\n",
       "      <th>...</th>\n",
       "      <th>Marital Status_Unknown</th>\n",
       "      <th>Occupation_Self-Employed</th>\n",
       "      <th>Occupation_Unemployed</th>\n",
       "      <th>Occupation_Unknown</th>\n",
       "      <th>Location_Suburban</th>\n",
       "      <th>Location_Urban</th>\n",
       "      <th>Policy Type_Comprehensive</th>\n",
       "      <th>Policy Type_Premium</th>\n",
       "      <th>Property Type_Condo</th>\n",
       "      <th>Property Type_House</th>\n",
       "    </tr>\n",
       "  </thead>\n",
       "  <tbody>\n",
       "    <tr>\n",
       "      <th>0</th>\n",
       "      <td>0</td>\n",
       "      <td>19.0</td>\n",
       "      <td>Female</td>\n",
       "      <td>10049.0</td>\n",
       "      <td>Married</td>\n",
       "      <td>1.0</td>\n",
       "      <td>Bachelor's</td>\n",
       "      <td>Self-Employed</td>\n",
       "      <td>22.598761</td>\n",
       "      <td>Urban</td>\n",
       "      <td>...</td>\n",
       "      <td>0.0</td>\n",
       "      <td>1.0</td>\n",
       "      <td>0.0</td>\n",
       "      <td>0.0</td>\n",
       "      <td>0.0</td>\n",
       "      <td>1.0</td>\n",
       "      <td>0.0</td>\n",
       "      <td>1.0</td>\n",
       "      <td>0.0</td>\n",
       "      <td>1.0</td>\n",
       "    </tr>\n",
       "    <tr>\n",
       "      <th>1</th>\n",
       "      <td>1</td>\n",
       "      <td>39.0</td>\n",
       "      <td>Female</td>\n",
       "      <td>31678.0</td>\n",
       "      <td>Divorced</td>\n",
       "      <td>3.0</td>\n",
       "      <td>Master's</td>\n",
       "      <td>Unknown</td>\n",
       "      <td>15.569731</td>\n",
       "      <td>Rural</td>\n",
       "      <td>...</td>\n",
       "      <td>0.0</td>\n",
       "      <td>0.0</td>\n",
       "      <td>0.0</td>\n",
       "      <td>1.0</td>\n",
       "      <td>0.0</td>\n",
       "      <td>0.0</td>\n",
       "      <td>1.0</td>\n",
       "      <td>0.0</td>\n",
       "      <td>0.0</td>\n",
       "      <td>1.0</td>\n",
       "    </tr>\n",
       "    <tr>\n",
       "      <th>2</th>\n",
       "      <td>2</td>\n",
       "      <td>23.0</td>\n",
       "      <td>Male</td>\n",
       "      <td>25602.0</td>\n",
       "      <td>Divorced</td>\n",
       "      <td>3.0</td>\n",
       "      <td>High School</td>\n",
       "      <td>Self-Employed</td>\n",
       "      <td>47.177549</td>\n",
       "      <td>Suburban</td>\n",
       "      <td>...</td>\n",
       "      <td>0.0</td>\n",
       "      <td>1.0</td>\n",
       "      <td>0.0</td>\n",
       "      <td>0.0</td>\n",
       "      <td>1.0</td>\n",
       "      <td>0.0</td>\n",
       "      <td>0.0</td>\n",
       "      <td>1.0</td>\n",
       "      <td>0.0</td>\n",
       "      <td>1.0</td>\n",
       "    </tr>\n",
       "    <tr>\n",
       "      <th>3</th>\n",
       "      <td>3</td>\n",
       "      <td>21.0</td>\n",
       "      <td>Male</td>\n",
       "      <td>141855.0</td>\n",
       "      <td>Married</td>\n",
       "      <td>2.0</td>\n",
       "      <td>Bachelor's</td>\n",
       "      <td>Unknown</td>\n",
       "      <td>10.938144</td>\n",
       "      <td>Rural</td>\n",
       "      <td>...</td>\n",
       "      <td>0.0</td>\n",
       "      <td>0.0</td>\n",
       "      <td>0.0</td>\n",
       "      <td>1.0</td>\n",
       "      <td>0.0</td>\n",
       "      <td>0.0</td>\n",
       "      <td>0.0</td>\n",
       "      <td>0.0</td>\n",
       "      <td>0.0</td>\n",
       "      <td>0.0</td>\n",
       "    </tr>\n",
       "    <tr>\n",
       "      <th>4</th>\n",
       "      <td>4</td>\n",
       "      <td>21.0</td>\n",
       "      <td>Male</td>\n",
       "      <td>39651.0</td>\n",
       "      <td>Single</td>\n",
       "      <td>1.0</td>\n",
       "      <td>Bachelor's</td>\n",
       "      <td>Self-Employed</td>\n",
       "      <td>20.376094</td>\n",
       "      <td>Rural</td>\n",
       "      <td>...</td>\n",
       "      <td>0.0</td>\n",
       "      <td>1.0</td>\n",
       "      <td>0.0</td>\n",
       "      <td>0.0</td>\n",
       "      <td>0.0</td>\n",
       "      <td>0.0</td>\n",
       "      <td>0.0</td>\n",
       "      <td>1.0</td>\n",
       "      <td>0.0</td>\n",
       "      <td>1.0</td>\n",
       "    </tr>\n",
       "  </tbody>\n",
       "</table>\n",
       "<p>5 rows × 50 columns</p>\n",
       "</div>"
      ],
      "text/plain": [
       "   id   Age  Gender  Annual Income Marital Status  Number of Dependents  \\\n",
       "0   0  19.0  Female        10049.0        Married                   1.0   \n",
       "1   1  39.0  Female        31678.0       Divorced                   3.0   \n",
       "2   2  23.0    Male        25602.0       Divorced                   3.0   \n",
       "3   3  21.0    Male       141855.0        Married                   2.0   \n",
       "4   4  21.0    Male        39651.0         Single                   1.0   \n",
       "\n",
       "  Education Level     Occupation  Health Score  Location  ...  \\\n",
       "0      Bachelor's  Self-Employed     22.598761     Urban  ...   \n",
       "1        Master's        Unknown     15.569731     Rural  ...   \n",
       "2     High School  Self-Employed     47.177549  Suburban  ...   \n",
       "3      Bachelor's        Unknown     10.938144     Rural  ...   \n",
       "4      Bachelor's  Self-Employed     20.376094     Rural  ...   \n",
       "\n",
       "  Marital Status_Unknown  Occupation_Self-Employed  Occupation_Unemployed  \\\n",
       "0                    0.0                       1.0                    0.0   \n",
       "1                    0.0                       0.0                    0.0   \n",
       "2                    0.0                       1.0                    0.0   \n",
       "3                    0.0                       0.0                    0.0   \n",
       "4                    0.0                       1.0                    0.0   \n",
       "\n",
       "   Occupation_Unknown  Location_Suburban Location_Urban  \\\n",
       "0                 0.0                0.0            1.0   \n",
       "1                 1.0                0.0            0.0   \n",
       "2                 0.0                1.0            0.0   \n",
       "3                 1.0                0.0            0.0   \n",
       "4                 0.0                0.0            0.0   \n",
       "\n",
       "  Policy Type_Comprehensive Policy Type_Premium Property Type_Condo  \\\n",
       "0                       0.0                 1.0                 0.0   \n",
       "1                       1.0                 0.0                 0.0   \n",
       "2                       0.0                 1.0                 0.0   \n",
       "3                       0.0                 0.0                 0.0   \n",
       "4                       0.0                 1.0                 0.0   \n",
       "\n",
       "  Property Type_House  \n",
       "0                 1.0  \n",
       "1                 1.0  \n",
       "2                 1.0  \n",
       "3                 0.0  \n",
       "4                 1.0  \n",
       "\n",
       "[5 rows x 50 columns]"
      ]
     },
     "execution_count": 29,
     "metadata": {},
     "output_type": "execute_result"
    }
   ],
   "source": [
    "nominal_cat_columns = ['Gender', 'Marital Status', 'Occupation', 'Location', 'Policy Type', 'Property Type']\n",
    "for col in nominal_cat_columns:\n",
    "    train = pd.concat([train, pd.get_dummies(train[col], dtype='float64', prefix=col, drop_first=True)], axis = 1)\n",
    "    test = pd.concat([test, pd.get_dummies(test[col], dtype='float64', prefix=col, drop_first=True)], axis = 1)\n",
    "\n",
    "train.head()"
   ]
  },
  {
   "cell_type": "markdown",
   "id": "16701b48",
   "metadata": {
    "papermill": {
     "duration": 0.016596,
     "end_time": "2024-12-31T19:44:17.259216",
     "exception": false,
     "start_time": "2024-12-31T19:44:17.242620",
     "status": "completed"
    },
    "tags": []
   },
   "source": [
    "# Model Training"
   ]
  },
  {
   "cell_type": "code",
   "execution_count": 30,
   "id": "60feaf05",
   "metadata": {
    "execution": {
     "iopub.execute_input": "2024-12-31T19:44:17.293524Z",
     "iopub.status.busy": "2024-12-31T19:44:17.293288Z",
     "iopub.status.idle": "2024-12-31T19:44:17.296758Z",
     "shell.execute_reply": "2024-12-31T19:44:17.296181Z"
    },
    "papermill": {
     "duration": 0.02213,
     "end_time": "2024-12-31T19:44:17.297987",
     "exception": false,
     "start_time": "2024-12-31T19:44:17.275857",
     "status": "completed"
    },
    "tags": []
   },
   "outputs": [],
   "source": [
    "X_columns_transformed = [ \n",
    "        'Age',\n",
    "        'Credit Score',\n",
    "        'Vehicle Age',\n",
    "        'Insurance Duration',\n",
    "        'Number of Dependents',\n",
    "        'Previous Claims',\n",
    "        'Log Annual Income',\n",
    "        'Log Health Score',\n",
    "        'Policy Start Date_Year','Policy Start Date_Month_sin', 'Policy Start Date_Month_cos', 'Policy Start Date_Day',\n",
    "        'Education Level_ordinal encoding',\n",
    "        'Customer Feedback_ordinal encoding', \n",
    "        'Smoking Status_ordinal encoding',\n",
    "        'Exercise Frequency_ordinal encoding', \n",
    "        'Gender_Female', 'Gender_Male',\n",
    "        'Marital Status_Divorced', 'Marital Status_Married','Marital Status_Single', 'Occupation_Employed',\n",
    "        'Occupation_Self-Employed', 'Occupation_Unemployed','Occupation_Unknown', \n",
    "        'Location_Rural', 'Location_Suburban','Location_Urban', \n",
    "        'Policy Type_Basic', 'Policy Type_Comprehensive','Policy Type_Premium', \n",
    "        'Property Type_Apartment', 'Property Type_Condo','Property Type_House'\n",
    "       ]"
   ]
  },
  {
   "cell_type": "code",
   "execution_count": 31,
   "id": "0d3a0bf1",
   "metadata": {
    "execution": {
     "iopub.execute_input": "2024-12-31T19:44:17.331806Z",
     "iopub.status.busy": "2024-12-31T19:44:17.331594Z",
     "iopub.status.idle": "2024-12-31T19:44:17.467026Z",
     "shell.execute_reply": "2024-12-31T19:44:17.466310Z"
    },
    "papermill": {
     "duration": 0.154201,
     "end_time": "2024-12-31T19:44:17.468606",
     "exception": false,
     "start_time": "2024-12-31T19:44:17.314405",
     "status": "completed"
    },
    "tags": []
   },
   "outputs": [],
   "source": [
    "X_sample = train[[col for col in X_columns_transformed if col in train.columns]]\n",
    "Y_sample = train['Log Premium Amount']\n",
    "\n",
    "X_test = test[[col for col in X_columns_transformed if col in test.columns]]"
   ]
  },
  {
   "cell_type": "code",
   "execution_count": 32,
   "id": "96765714",
   "metadata": {
    "execution": {
     "iopub.execute_input": "2024-12-31T19:44:17.502899Z",
     "iopub.status.busy": "2024-12-31T19:44:17.502584Z",
     "iopub.status.idle": "2024-12-31T19:44:17.830010Z",
     "shell.execute_reply": "2024-12-31T19:44:17.828930Z"
    },
    "papermill": {
     "duration": 0.346074,
     "end_time": "2024-12-31T19:44:17.831777",
     "exception": false,
     "start_time": "2024-12-31T19:44:17.485703",
     "status": "completed"
    },
    "tags": []
   },
   "outputs": [],
   "source": [
    "X_train, X_valid, Y_train, Y_valid = train_test_split(X_sample, Y_sample, test_size=0.2, random_state=RANDOM_SEED)"
   ]
  },
  {
   "cell_type": "markdown",
   "id": "40e28c3e",
   "metadata": {
    "papermill": {
     "duration": 0.016602,
     "end_time": "2024-12-31T19:44:17.865587",
     "exception": false,
     "start_time": "2024-12-31T19:44:17.848985",
     "status": "completed"
    },
    "tags": []
   },
   "source": [
    "### Hyperparameter Tuning"
   ]
  },
  {
   "cell_type": "code",
   "execution_count": 33,
   "id": "8abee4ae",
   "metadata": {
    "execution": {
     "iopub.execute_input": "2024-12-31T19:44:17.900879Z",
     "iopub.status.busy": "2024-12-31T19:44:17.900583Z",
     "iopub.status.idle": "2024-12-31T19:58:34.039426Z",
     "shell.execute_reply": "2024-12-31T19:58:34.038514Z"
    },
    "papermill": {
     "duration": 856.15838,
     "end_time": "2024-12-31T19:58:34.040997",
     "exception": false,
     "start_time": "2024-12-31T19:44:17.882617",
     "status": "completed"
    },
    "tags": []
   },
   "outputs": [
    {
     "name": "stderr",
     "output_type": "stream",
     "text": [
      "[I 2024-12-31 19:44:17,904] A new study created in memory with name: no-name-aa53cd15-aa14-4a8f-a266-99b77b72b61c\n"
     ]
    },
    {
     "name": "stdout",
     "output_type": "stream",
     "text": [
      "Training until validation scores don't improve for 200 rounds\n",
      "Early stopping, best iteration is:\n",
      "[43]\tvalid_0's rmse: 1.04902\n"
     ]
    },
    {
     "name": "stderr",
     "output_type": "stream",
     "text": [
      "[I 2024-12-31 19:44:32,069] Trial 0 finished with value: 1.049021721407271 and parameters: {'n_estimators': 700, 'learning_rate': 0.12700988877672972, 'num_leaves': 133, 'max_depth': 10, 'min_child_samples': 12, 'subsample': 0.7511263460421942, 'colsample_bytree': 0.878527134275795, 'reg_alpha': 7.977067511815613, 'reg_lambda': 3.774330704187964}. Best is trial 0 with value: 1.049021721407271.\n"
     ]
    },
    {
     "name": "stdout",
     "output_type": "stream",
     "text": [
      "Training until validation scores don't improve for 200 rounds\n",
      "Did not meet early stopping. Best iteration is:\n",
      "[588]\tvalid_0's rmse: 1.05247\n"
     ]
    },
    {
     "name": "stderr",
     "output_type": "stream",
     "text": [
      "[I 2024-12-31 19:44:55,073] Trial 1 finished with value: 1.0524733422964037 and parameters: {'n_estimators': 588, 'learning_rate': 0.019199007335463678, 'num_leaves': 65, 'max_depth': 5, 'min_child_samples': 57, 'subsample': 0.5179526688464341, 'colsample_bytree': 0.5488361988639292, 'reg_alpha': 1.8600127695917974, 'reg_lambda': 9.948250060598342}. Best is trial 0 with value: 1.049021721407271.\n"
     ]
    },
    {
     "name": "stdout",
     "output_type": "stream",
     "text": [
      "Training until validation scores don't improve for 200 rounds\n",
      "Early stopping, best iteration is:\n",
      "[50]\tvalid_0's rmse: 1.04897\n"
     ]
    },
    {
     "name": "stderr",
     "output_type": "stream",
     "text": [
      "[I 2024-12-31 19:45:03,543] Trial 2 finished with value: 1.0489666363666466 and parameters: {'n_estimators': 967, 'learning_rate': 0.1257622950323994, 'num_leaves': 93, 'max_depth': 10, 'min_child_samples': 45, 'subsample': 0.9598217820964112, 'colsample_bytree': 0.8851921047950998, 'reg_alpha': 6.1708996162970156, 'reg_lambda': 3.193058329930984}. Best is trial 2 with value: 1.0489666363666466.\n"
     ]
    },
    {
     "name": "stdout",
     "output_type": "stream",
     "text": [
      "Training until validation scores don't improve for 200 rounds\n",
      "Early stopping, best iteration is:\n",
      "[157]\tvalid_0's rmse: 1.05088\n"
     ]
    },
    {
     "name": "stderr",
     "output_type": "stream",
     "text": [
      "[I 2024-12-31 19:45:12,921] Trial 3 finished with value: 1.0508818705677874 and parameters: {'n_estimators': 1336, 'learning_rate': 0.18160602878688947, 'num_leaves': 36, 'max_depth': 10, 'min_child_samples': 31, 'subsample': 0.8053841466625776, 'colsample_bytree': 0.5113117532094699, 'reg_alpha': 9.416489017232516, 'reg_lambda': 6.4948457952715355}. Best is trial 2 with value: 1.0489666363666466.\n"
     ]
    },
    {
     "name": "stdout",
     "output_type": "stream",
     "text": [
      "Training until validation scores don't improve for 200 rounds\n",
      "Early stopping, best iteration is:\n",
      "[897]\tvalid_0's rmse: 1.05225\n"
     ]
    },
    {
     "name": "stderr",
     "output_type": "stream",
     "text": [
      "[I 2024-12-31 19:45:42,730] Trial 4 finished with value: 1.0522494413252383 and parameters: {'n_estimators': 1483, 'learning_rate': 0.1237430357499541, 'num_leaves': 73, 'max_depth': 4, 'min_child_samples': 82, 'subsample': 0.7681160694959424, 'colsample_bytree': 0.6179001236062824, 'reg_alpha': 3.3522461003508752, 'reg_lambda': 0.46319752222143573}. Best is trial 2 with value: 1.0489666363666466.\n"
     ]
    },
    {
     "name": "stdout",
     "output_type": "stream",
     "text": [
      "Training until validation scores don't improve for 200 rounds\n",
      "Did not meet early stopping. Best iteration is:\n",
      "[1184]\tvalid_0's rmse: 1.05374\n"
     ]
    },
    {
     "name": "stderr",
     "output_type": "stream",
     "text": [
      "[I 2024-12-31 19:46:11,479] Trial 5 finished with value: 1.0537372895062267 and parameters: {'n_estimators': 1241, 'learning_rate': 0.10207583286994272, 'num_leaves': 148, 'max_depth': 3, 'min_child_samples': 94, 'subsample': 0.5149192431848821, 'colsample_bytree': 0.8810558799097511, 'reg_alpha': 6.43665938546566, 'reg_lambda': 1.3923867347006786}. Best is trial 2 with value: 1.0489666363666466.\n"
     ]
    },
    {
     "name": "stdout",
     "output_type": "stream",
     "text": [
      "Training until validation scores don't improve for 200 rounds\n",
      "Early stopping, best iteration is:\n",
      "[160]\tvalid_0's rmse: 1.05045\n"
     ]
    },
    {
     "name": "stderr",
     "output_type": "stream",
     "text": [
      "[I 2024-12-31 19:46:23,506] Trial 6 finished with value: 1.050446287181487 and parameters: {'n_estimators': 671, 'learning_rate': 0.17366081570241554, 'num_leaves': 53, 'max_depth': 5, 'min_child_samples': 72, 'subsample': 0.6221758051108232, 'colsample_bytree': 0.988036723165421, 'reg_alpha': 7.622026098101946, 'reg_lambda': 0.8969250978198405}. Best is trial 2 with value: 1.0489666363666466.\n"
     ]
    },
    {
     "name": "stdout",
     "output_type": "stream",
     "text": [
      "Training until validation scores don't improve for 200 rounds\n",
      "Early stopping, best iteration is:\n",
      "[412]\tvalid_0's rmse: 1.04905\n"
     ]
    },
    {
     "name": "stderr",
     "output_type": "stream",
     "text": [
      "[I 2024-12-31 19:46:37,196] Trial 7 finished with value: 1.0490533220833302 and parameters: {'n_estimators': 1081, 'learning_rate': 0.08368697279251824, 'num_leaves': 25, 'max_depth': 9, 'min_child_samples': 71, 'subsample': 0.8974557600940611, 'colsample_bytree': 0.8598138626826344, 'reg_alpha': 6.0443521682781425, 'reg_lambda': 9.589759025409075}. Best is trial 2 with value: 1.0489666363666466.\n"
     ]
    },
    {
     "name": "stdout",
     "output_type": "stream",
     "text": [
      "Training until validation scores don't improve for 200 rounds\n",
      "Early stopping, best iteration is:\n",
      "[46]\tvalid_0's rmse: 1.04929\n"
     ]
    },
    {
     "name": "stderr",
     "output_type": "stream",
     "text": [
      "[I 2024-12-31 19:46:47,096] Trial 8 finished with value: 1.049294683031265 and parameters: {'n_estimators': 807, 'learning_rate': 0.14594585034454471, 'num_leaves': 141, 'max_depth': 10, 'min_child_samples': 86, 'subsample': 0.9034469858920801, 'colsample_bytree': 0.7521145029063733, 'reg_alpha': 7.637581628221964, 'reg_lambda': 8.620073762307788}. Best is trial 2 with value: 1.0489666363666466.\n"
     ]
    },
    {
     "name": "stdout",
     "output_type": "stream",
     "text": [
      "Training until validation scores don't improve for 200 rounds\n",
      "Early stopping, best iteration is:\n",
      "[109]\tvalid_0's rmse: 1.04993\n"
     ]
    },
    {
     "name": "stderr",
     "output_type": "stream",
     "text": [
      "[I 2024-12-31 19:46:59,271] Trial 9 finished with value: 1.0499252705051998 and parameters: {'n_estimators': 1053, 'learning_rate': 0.1425205462604815, 'num_leaves': 76, 'max_depth': 6, 'min_child_samples': 14, 'subsample': 0.8401710147987661, 'colsample_bytree': 0.8140896587685238, 'reg_alpha': 0.7783135515737379, 'reg_lambda': 1.0803693606739406}. Best is trial 2 with value: 1.0489666363666466.\n"
     ]
    },
    {
     "name": "stdout",
     "output_type": "stream",
     "text": [
      "Training until validation scores don't improve for 200 rounds\n",
      "Early stopping, best iteration is:\n",
      "[104]\tvalid_0's rmse: 1.04888\n"
     ]
    },
    {
     "name": "stderr",
     "output_type": "stream",
     "text": [
      "[I 2024-12-31 19:47:10,258] Trial 10 finished with value: 1.0488777994042957 and parameters: {'n_estimators': 316, 'learning_rate': 0.06970376368938644, 'num_leaves': 104, 'max_depth': 12, 'min_child_samples': 38, 'subsample': 0.9818133560353441, 'colsample_bytree': 0.9696663913817385, 'reg_alpha': 4.09938450706902, 'reg_lambda': 3.8809381854215537}. Best is trial 10 with value: 1.0488777994042957.\n"
     ]
    },
    {
     "name": "stdout",
     "output_type": "stream",
     "text": [
      "Training until validation scores don't improve for 200 rounds\n",
      "Early stopping, best iteration is:\n",
      "[97]\tvalid_0's rmse: 1.04883\n"
     ]
    },
    {
     "name": "stderr",
     "output_type": "stream",
     "text": [
      "[I 2024-12-31 19:47:21,685] Trial 11 finished with value: 1.0488330627042992 and parameters: {'n_estimators': 305, 'learning_rate': 0.05877265623110335, 'num_leaves': 107, 'max_depth': 12, 'min_child_samples': 40, 'subsample': 0.9897682546006452, 'colsample_bytree': 0.9854409772596593, 'reg_alpha': 3.981169741872232, 'reg_lambda': 3.743455702545409}. Best is trial 11 with value: 1.0488330627042992.\n"
     ]
    },
    {
     "name": "stdout",
     "output_type": "stream",
     "text": [
      "Training until validation scores don't improve for 200 rounds\n",
      "Did not meet early stopping. Best iteration is:\n",
      "[115]\tvalid_0's rmse: 1.04896\n"
     ]
    },
    {
     "name": "stderr",
     "output_type": "stream",
     "text": [
      "[I 2024-12-31 19:47:33,293] Trial 12 finished with value: 1.0489624133819755 and parameters: {'n_estimators': 301, 'learning_rate': 0.0546730570665474, 'num_leaves': 105, 'max_depth': 12, 'min_child_samples': 37, 'subsample': 0.9769039681778441, 'colsample_bytree': 0.998113097446625, 'reg_alpha': 3.9897508333991327, 'reg_lambda': 5.729647341440275}. Best is trial 11 with value: 1.0488330627042992.\n"
     ]
    },
    {
     "name": "stdout",
     "output_type": "stream",
     "text": [
      "Training until validation scores don't improve for 200 rounds\n",
      "Early stopping, best iteration is:\n",
      "[129]\tvalid_0's rmse: 1.04891\n"
     ]
    },
    {
     "name": "stderr",
     "output_type": "stream",
     "text": [
      "[I 2024-12-31 19:47:45,613] Trial 13 finished with value: 1.0489087556219185 and parameters: {'n_estimators': 331, 'learning_rate': 0.05666694709615672, 'num_leaves': 114, 'max_depth': 12, 'min_child_samples': 27, 'subsample': 0.9918746714604337, 'colsample_bytree': 0.9482354595766175, 'reg_alpha': 3.309884070632201, 'reg_lambda': 3.735003933035238}. Best is trial 11 with value: 1.0488330627042992.\n"
     ]
    },
    {
     "name": "stdout",
     "output_type": "stream",
     "text": [
      "Training until validation scores don't improve for 200 rounds\n",
      "Early stopping, best iteration is:\n",
      "[272]\tvalid_0's rmse: 1.04918\n"
     ]
    },
    {
     "name": "stderr",
     "output_type": "stream",
     "text": [
      "[I 2024-12-31 19:48:05,780] Trial 14 finished with value: 1.0491828813824784 and parameters: {'n_estimators': 501, 'learning_rate': 0.030131445039118666, 'num_leaves': 121, 'max_depth': 12, 'min_child_samples': 56, 'subsample': 0.6655729081481985, 'colsample_bytree': 0.7160519528346212, 'reg_alpha': 4.702364585180804, 'reg_lambda': 2.571865897013388}. Best is trial 11 with value: 1.0488330627042992.\n"
     ]
    },
    {
     "name": "stdout",
     "output_type": "stream",
     "text": [
      "Training until validation scores don't improve for 200 rounds\n",
      "Early stopping, best iteration is:\n",
      "[138]\tvalid_0's rmse: 1.04911\n"
     ]
    },
    {
     "name": "stderr",
     "output_type": "stream",
     "text": [
      "[I 2024-12-31 19:48:18,509] Trial 15 finished with value: 1.0491146310532808 and parameters: {'n_estimators': 464, 'learning_rate': 0.07142629960662582, 'num_leaves': 94, 'max_depth': 8, 'min_child_samples': 43, 'subsample': 0.913483537615919, 'colsample_bytree': 0.9496434675639096, 'reg_alpha': 1.9107475642126301, 'reg_lambda': 4.978264303579381}. Best is trial 11 with value: 1.0488330627042992.\n"
     ]
    },
    {
     "name": "stdout",
     "output_type": "stream",
     "text": [
      "Training until validation scores don't improve for 200 rounds\n",
      "Did not meet early stopping. Best iteration is:\n",
      "[241]\tvalid_0's rmse: 1.04915\n"
     ]
    },
    {
     "name": "stderr",
     "output_type": "stream",
     "text": [
      "[I 2024-12-31 19:48:35,435] Trial 16 finished with value: 1.0491499848658616 and parameters: {'n_estimators': 428, 'learning_rate': 0.041830388481673114, 'num_leaves': 124, 'max_depth': 11, 'min_child_samples': 23, 'subsample': 0.8672001968258503, 'colsample_bytree': 0.6986388314193843, 'reg_alpha': 2.3045991123976117, 'reg_lambda': 7.220250168499955}. Best is trial 11 with value: 1.0488330627042992.\n"
     ]
    },
    {
     "name": "stdout",
     "output_type": "stream",
     "text": [
      "Training until validation scores don't improve for 200 rounds\n",
      "Early stopping, best iteration is:\n",
      "[140]\tvalid_0's rmse: 1.04944\n"
     ]
    },
    {
     "name": "stderr",
     "output_type": "stream",
     "text": [
      "[I 2024-12-31 19:48:50,871] Trial 17 finished with value: 1.049443564065292 and parameters: {'n_estimators': 804, 'learning_rate': 0.08770352892725577, 'num_leaves': 108, 'max_depth': 7, 'min_child_samples': 50, 'subsample': 0.6738280163042667, 'colsample_bytree': 0.8006702556685104, 'reg_alpha': 5.044078848435412, 'reg_lambda': 4.617247034113744}. Best is trial 11 with value: 1.0488330627042992.\n"
     ]
    },
    {
     "name": "stdout",
     "output_type": "stream",
     "text": [
      "Training until validation scores don't improve for 200 rounds\n",
      "Did not meet early stopping. Best iteration is:\n",
      "[538]\tvalid_0's rmse: 1.04909\n"
     ]
    },
    {
     "name": "stderr",
     "output_type": "stream",
     "text": [
      "[I 2024-12-31 19:49:18,461] Trial 18 finished with value: 1.049087983306836 and parameters: {'n_estimators': 538, 'learning_rate': 0.015449382712223132, 'num_leaves': 90, 'max_depth': 8, 'min_child_samples': 6, 'subsample': 0.9444185775074988, 'colsample_bytree': 0.9302646628126987, 'reg_alpha': 0.46431873262534085, 'reg_lambda': 2.496697625571307}. Best is trial 11 with value: 1.0488330627042992.\n"
     ]
    },
    {
     "name": "stdout",
     "output_type": "stream",
     "text": [
      "Training until validation scores don't improve for 200 rounds\n",
      "Early stopping, best iteration is:\n",
      "[118]\tvalid_0's rmse: 1.0489\n"
     ]
    },
    {
     "name": "stderr",
     "output_type": "stream",
     "text": [
      "[I 2024-12-31 19:49:30,708] Trial 19 finished with value: 1.048902657832641 and parameters: {'n_estimators': 397, 'learning_rate': 0.06299218092368307, 'num_leaves': 102, 'max_depth': 11, 'min_child_samples': 64, 'subsample': 0.8367233867094375, 'colsample_bytree': 0.8132794895380017, 'reg_alpha': 4.975480271220823, 'reg_lambda': 7.437624495822755}. Best is trial 11 with value: 1.0488330627042992.\n"
     ]
    },
    {
     "name": "stdout",
     "output_type": "stream",
     "text": [
      "Training until validation scores don't improve for 200 rounds\n",
      "Early stopping, best iteration is:\n",
      "[76]\tvalid_0's rmse: 1.04961\n"
     ]
    },
    {
     "name": "stderr",
     "output_type": "stream",
     "text": [
      "[I 2024-12-31 19:49:41,281] Trial 20 finished with value: 1.0496089607084826 and parameters: {'n_estimators': 654, 'learning_rate': 0.09843453214044734, 'num_leaves': 132, 'max_depth': 11, 'min_child_samples': 37, 'subsample': 0.9377589779212676, 'colsample_bytree': 0.6503983317872521, 'reg_alpha': 2.897116145826584, 'reg_lambda': 2.3113093843913264}. Best is trial 11 with value: 1.0488330627042992.\n"
     ]
    },
    {
     "name": "stdout",
     "output_type": "stream",
     "text": [
      "Training until validation scores don't improve for 200 rounds\n",
      "Early stopping, best iteration is:\n",
      "[137]\tvalid_0's rmse: 1.0489\n"
     ]
    },
    {
     "name": "stderr",
     "output_type": "stream",
     "text": [
      "[I 2024-12-31 19:49:53,545] Trial 21 finished with value: 1.0489032681067174 and parameters: {'n_estimators': 380, 'learning_rate': 0.06608360154444634, 'num_leaves': 103, 'max_depth': 11, 'min_child_samples': 63, 'subsample': 0.9979200585019732, 'colsample_bytree': 0.8112189480585179, 'reg_alpha': 4.815546833232476, 'reg_lambda': 7.478907782834369}. Best is trial 11 with value: 1.0488330627042992.\n"
     ]
    },
    {
     "name": "stdout",
     "output_type": "stream",
     "text": [
      "Training until validation scores don't improve for 200 rounds\n",
      "Did not meet early stopping. Best iteration is:\n",
      "[214]\tvalid_0's rmse: 1.04889\n"
     ]
    },
    {
     "name": "stderr",
     "output_type": "stream",
     "text": [
      "[I 2024-12-31 19:50:06,266] Trial 22 finished with value: 1.0488869323218653 and parameters: {'n_estimators': 302, 'learning_rate': 0.04039808092311259, 'num_leaves': 79, 'max_depth': 12, 'min_child_samples': 67, 'subsample': 0.835435783053405, 'colsample_bytree': 0.924757707107025, 'reg_alpha': 4.208204233631251, 'reg_lambda': 5.913670009827387}. Best is trial 11 with value: 1.0488330627042992.\n"
     ]
    },
    {
     "name": "stdout",
     "output_type": "stream",
     "text": [
      "Training until validation scores don't improve for 200 rounds\n",
      "Early stopping, best iteration is:\n",
      "[218]\tvalid_0's rmse: 1.0489\n"
     ]
    },
    {
     "name": "stderr",
     "output_type": "stream",
     "text": [
      "[I 2024-12-31 19:50:21,301] Trial 23 finished with value: 1.0488978345804267 and parameters: {'n_estimators': 541, 'learning_rate': 0.0388160137125817, 'num_leaves': 80, 'max_depth': 12, 'min_child_samples': 48, 'subsample': 0.8750347497440328, 'colsample_bytree': 0.9240828525530166, 'reg_alpha': 3.9703818915096494, 'reg_lambda': 5.837237349686495}. Best is trial 11 with value: 1.0488330627042992.\n"
     ]
    },
    {
     "name": "stdout",
     "output_type": "stream",
     "text": [
      "Training until validation scores don't improve for 200 rounds\n",
      "Did not meet early stopping. Best iteration is:\n",
      "[193]\tvalid_0's rmse: 1.04898\n"
     ]
    },
    {
     "name": "stderr",
     "output_type": "stream",
     "text": [
      "[I 2024-12-31 19:50:33,145] Trial 24 finished with value: 1.0489798340609529 and parameters: {'n_estimators': 322, 'learning_rate': 0.04425374207580741, 'num_leaves': 59, 'max_depth': 9, 'min_child_samples': 21, 'subsample': 0.7976199312815059, 'colsample_bytree': 0.9967911558168453, 'reg_alpha': 3.976385582620215, 'reg_lambda': 4.235706923614134}. Best is trial 11 with value: 1.0488330627042992.\n"
     ]
    },
    {
     "name": "stdout",
     "output_type": "stream",
     "text": [
      "Training until validation scores don't improve for 200 rounds\n",
      "Early stopping, best iteration is:\n",
      "[89]\tvalid_0's rmse: 1.04894\n"
     ]
    },
    {
     "name": "stderr",
     "output_type": "stream",
     "text": [
      "[I 2024-12-31 19:50:41,530] Trial 25 finished with value: 1.048937815364452 and parameters: {'n_estimators': 457, 'learning_rate': 0.08645023653862648, 'num_leaves': 47, 'max_depth': 12, 'min_child_samples': 34, 'subsample': 0.7174604618613794, 'colsample_bytree': 0.961297921323804, 'reg_alpha': 5.780161930829348, 'reg_lambda': 5.666117733752937}. Best is trial 11 with value: 1.0488330627042992.\n"
     ]
    },
    {
     "name": "stdout",
     "output_type": "stream",
     "text": [
      "Training until validation scores don't improve for 200 rounds\n",
      "Early stopping, best iteration is:\n",
      "[82]\tvalid_0's rmse: 1.04903\n"
     ]
    },
    {
     "name": "stderr",
     "output_type": "stream",
     "text": [
      "[I 2024-12-31 19:50:51,754] Trial 26 finished with value: 1.0490272623353334 and parameters: {'n_estimators': 305, 'learning_rate': 0.07564620558330415, 'num_leaves': 88, 'max_depth': 9, 'min_child_samples': 71, 'subsample': 0.9408962835754338, 'colsample_bytree': 0.9126017087558239, 'reg_alpha': 2.9261885875762172, 'reg_lambda': 3.3554664310698072}. Best is trial 11 with value: 1.0488330627042992.\n"
     ]
    },
    {
     "name": "stdout",
     "output_type": "stream",
     "text": [
      "Training until validation scores don't improve for 200 rounds\n",
      "Early stopping, best iteration is:\n",
      "[286]\tvalid_0's rmse: 1.04883\n"
     ]
    },
    {
     "name": "stderr",
     "output_type": "stream",
     "text": [
      "[I 2024-12-31 19:51:08,950] Trial 27 finished with value: 1.0488264373330654 and parameters: {'n_estimators': 767, 'learning_rate': 0.03140655970757771, 'num_leaves': 67, 'max_depth': 11, 'min_child_samples': 40, 'subsample': 0.5935654599429223, 'colsample_bytree': 0.8399966002070455, 'reg_alpha': 5.369634148022504, 'reg_lambda': 6.45117304459973}. Best is trial 27 with value: 1.0488264373330654.\n"
     ]
    },
    {
     "name": "stdout",
     "output_type": "stream",
     "text": [
      "Training until validation scores don't improve for 200 rounds\n",
      "Did not meet early stopping. Best iteration is:\n",
      "[865]\tvalid_0's rmse: 1.04887\n"
     ]
    },
    {
     "name": "stderr",
     "output_type": "stream",
     "text": [
      "[I 2024-12-31 19:51:50,234] Trial 28 finished with value: 1.0488666559561892 and parameters: {'n_estimators': 901, 'learning_rate': 0.01055905654771767, 'num_leaves': 67, 'max_depth': 11, 'min_child_samples': 40, 'subsample': 0.5699074234200714, 'colsample_bytree': 0.844198532930229, 'reg_alpha': 7.132743011761986, 'reg_lambda': 1.929298956507313}. Best is trial 27 with value: 1.0488264373330654.\n"
     ]
    },
    {
     "name": "stdout",
     "output_type": "stream",
     "text": [
      "Training until validation scores don't improve for 200 rounds\n",
      "Early stopping, best iteration is:\n",
      "[558]\tvalid_0's rmse: 1.04898\n"
     ]
    },
    {
     "name": "stderr",
     "output_type": "stream",
     "text": [
      "[I 2024-12-31 19:52:20,182] Trial 29 finished with value: 1.0489814592252409 and parameters: {'n_estimators': 799, 'learning_rate': 0.015659081638409022, 'num_leaves': 69, 'max_depth': 10, 'min_child_samples': 16, 'subsample': 0.5710742880490063, 'colsample_bytree': 0.8500086468734088, 'reg_alpha': 7.14456314360252, 'reg_lambda': 1.8625437359466448}. Best is trial 27 with value: 1.0488264373330654.\n"
     ]
    },
    {
     "name": "stdout",
     "output_type": "stream",
     "text": [
      "Training until validation scores don't improve for 200 rounds\n",
      "Did not meet early stopping. Best iteration is:\n",
      "[790]\tvalid_0's rmse: 1.04912\n"
     ]
    },
    {
     "name": "stderr",
     "output_type": "stream",
     "text": [
      "[I 2024-12-31 19:52:45,828] Trial 30 finished with value: 1.04911565412197 and parameters: {'n_estimators': 888, 'learning_rate': 0.029316567420938053, 'num_leaves': 36, 'max_depth': 11, 'min_child_samples': 43, 'subsample': 0.5810963662295507, 'colsample_bytree': 0.7672910981675621, 'reg_alpha': 9.536779308432017, 'reg_lambda': 3.068322749547664}. Best is trial 27 with value: 1.0488264373330654.\n"
     ]
    },
    {
     "name": "stdout",
     "output_type": "stream",
     "text": [
      "Training until validation scores don't improve for 200 rounds\n",
      "Early stopping, best iteration is:\n",
      "[328]\tvalid_0's rmse: 1.0489\n"
     ]
    },
    {
     "name": "stderr",
     "output_type": "stream",
     "text": [
      "[I 2024-12-31 19:53:04,479] Trial 31 finished with value: 1.0488984338725023 and parameters: {'n_estimators': 962, 'learning_rate': 0.02712479378634508, 'num_leaves': 60, 'max_depth': 11, 'min_child_samples': 39, 'subsample': 0.5740378262230892, 'colsample_bytree': 0.8421749560429556, 'reg_alpha': 8.554762955455853, 'reg_lambda': 4.233202893748742}. Best is trial 27 with value: 1.0488264373330654.\n"
     ]
    },
    {
     "name": "stdout",
     "output_type": "stream",
     "text": [
      "Training until validation scores don't improve for 200 rounds\n",
      "Did not meet early stopping. Best iteration is:\n",
      "[656]\tvalid_0's rmse: 1.04893\n"
     ]
    },
    {
     "name": "stderr",
     "output_type": "stream",
     "text": [
      "[I 2024-12-31 19:53:46,767] Trial 32 finished with value: 1.0489333041251667 and parameters: {'n_estimators': 767, 'learning_rate': 0.010751707408665045, 'num_leaves': 115, 'max_depth': 10, 'min_child_samples': 29, 'subsample': 0.5444603762776113, 'colsample_bytree': 0.906190646765358, 'reg_alpha': 5.562676898378514, 'reg_lambda': 5.010760388330332}. Best is trial 27 with value: 1.0488264373330654.\n"
     ]
    },
    {
     "name": "stdout",
     "output_type": "stream",
     "text": [
      "Training until validation scores don't improve for 200 rounds\n",
      "Early stopping, best iteration is:\n",
      "[181]\tvalid_0's rmse: 1.04886\n"
     ]
    },
    {
     "name": "stderr",
     "output_type": "stream",
     "text": [
      "[I 2024-12-31 19:54:00,368] Trial 33 finished with value: 1.0488550897318112 and parameters: {'n_estimators': 597, 'learning_rate': 0.05037682268063944, 'num_leaves': 85, 'max_depth': 11, 'min_child_samples': 54, 'subsample': 0.640891236308918, 'colsample_bytree': 0.9614617107177671, 'reg_alpha': 6.507696481809877, 'reg_lambda': 0.11749989702243013}. Best is trial 27 with value: 1.0488264373330654.\n"
     ]
    },
    {
     "name": "stdout",
     "output_type": "stream",
     "text": [
      "Training until validation scores don't improve for 200 rounds\n",
      "Early stopping, best iteration is:\n",
      "[154]\tvalid_0's rmse: 1.04899\n"
     ]
    },
    {
     "name": "stderr",
     "output_type": "stream",
     "text": [
      "[I 2024-12-31 19:54:12,410] Trial 34 finished with value: 1.048986837737249 and parameters: {'n_estimators': 609, 'learning_rate': 0.051993140327160486, 'num_leaves': 64, 'max_depth': 9, 'min_child_samples': 54, 'subsample': 0.6267948355763892, 'colsample_bytree': 0.8903018069768498, 'reg_alpha': 6.521160688695305, 'reg_lambda': 0.40799484051237556}. Best is trial 27 with value: 1.0488264373330654.\n"
     ]
    },
    {
     "name": "stdout",
     "output_type": "stream",
     "text": [
      "Training until validation scores don't improve for 200 rounds\n",
      "Did not meet early stopping. Best iteration is:\n",
      "[891]\tvalid_0's rmse: 1.0489\n"
     ]
    },
    {
     "name": "stderr",
     "output_type": "stream",
     "text": [
      "[I 2024-12-31 19:54:42,290] Trial 35 finished with value: 1.0488952657715787 and parameters: {'n_estimators': 897, 'learning_rate': 0.02564691184934534, 'num_leaves': 48, 'max_depth': 11, 'min_child_samples': 49, 'subsample': 0.6082250722364348, 'colsample_bytree': 0.8629438997117234, 'reg_alpha': 8.368433241032632, 'reg_lambda': 0.056846034584526514}. Best is trial 27 with value: 1.0488264373330654.\n"
     ]
    },
    {
     "name": "stdout",
     "output_type": "stream",
     "text": [
      "Training until validation scores don't improve for 200 rounds\n",
      "Early stopping, best iteration is:\n",
      "[198]\tvalid_0's rmse: 1.04902\n"
     ]
    },
    {
     "name": "stderr",
     "output_type": "stream",
     "text": [
      "[I 2024-12-31 19:54:56,887] Trial 36 finished with value: 1.0490229102205029 and parameters: {'n_estimators': 750, 'learning_rate': 0.0490623394222864, 'num_leaves': 84, 'max_depth': 10, 'min_child_samples': 56, 'subsample': 0.7074964314615342, 'colsample_bytree': 0.7898673271760759, 'reg_alpha': 7.001690713644694, 'reg_lambda': 1.272943588786928}. Best is trial 27 with value: 1.0488264373330654.\n"
     ]
    },
    {
     "name": "stdout",
     "output_type": "stream",
     "text": [
      "Training until validation scores don't improve for 200 rounds\n",
      "Early stopping, best iteration is:\n",
      "[443]\tvalid_0's rmse: 1.04954\n"
     ]
    },
    {
     "name": "stderr",
     "output_type": "stream",
     "text": [
      "[I 2024-12-31 19:55:27,385] Trial 37 finished with value: 1.04953687093773 and parameters: {'n_estimators': 1115, 'learning_rate': 0.03550872331535708, 'num_leaves': 97, 'max_depth': 7, 'min_child_samples': 42, 'subsample': 0.5046404132476839, 'colsample_bytree': 0.7084875079943322, 'reg_alpha': 8.843753425409869, 'reg_lambda': 1.826744493129223}. Best is trial 27 with value: 1.0488264373330654.\n"
     ]
    },
    {
     "name": "stdout",
     "output_type": "stream",
     "text": [
      "Training until validation scores don't improve for 200 rounds\n",
      "Did not meet early stopping. Best iteration is:\n",
      "[686]\tvalid_0's rmse: 1.04956\n"
     ]
    },
    {
     "name": "stderr",
     "output_type": "stream",
     "text": [
      "[I 2024-12-31 19:55:57,951] Trial 38 finished with value: 1.0495556651984326 and parameters: {'n_estimators': 724, 'learning_rate': 0.020330635323517886, 'num_leaves': 71, 'max_depth': 10, 'min_child_samples': 31, 'subsample': 0.5395155334703434, 'colsample_bytree': 0.5995758183333042, 'reg_alpha': 6.721697784431254, 'reg_lambda': 1.8365898437920272}. Best is trial 27 with value: 1.0488264373330654.\n"
     ]
    },
    {
     "name": "stdout",
     "output_type": "stream",
     "text": [
      "Training until validation scores don't improve for 200 rounds\n",
      "Early stopping, best iteration is:\n",
      "[50]\tvalid_0's rmse: 1.04895\n"
     ]
    },
    {
     "name": "stderr",
     "output_type": "stream",
     "text": [
      "[I 2024-12-31 19:56:04,350] Trial 39 finished with value: 1.0489523861144072 and parameters: {'n_estimators': 980, 'learning_rate': 0.19197762901744458, 'num_leaves': 38, 'max_depth': 11, 'min_child_samples': 79, 'subsample': 0.6513116741113687, 'colsample_bytree': 0.8327520046458283, 'reg_alpha': 5.490338435250605, 'reg_lambda': 6.759690497810704}. Best is trial 27 with value: 1.0488264373330654.\n"
     ]
    },
    {
     "name": "stdout",
     "output_type": "stream",
     "text": [
      "Training until validation scores don't improve for 200 rounds\n",
      "Did not meet early stopping. Best iteration is:\n",
      "[624]\tvalid_0's rmse: 1.05476\n"
     ]
    },
    {
     "name": "stderr",
     "output_type": "stream",
     "text": [
      "[I 2024-12-31 19:56:18,566] Trial 40 finished with value: 1.0547646024703448 and parameters: {'n_estimators': 625, 'learning_rate': 0.11216273791556386, 'num_leaves': 84, 'max_depth': 3, 'min_child_samples': 60, 'subsample': 0.7062456993629084, 'colsample_bytree': 0.8735293294670852, 'reg_alpha': 7.803895177803977, 'reg_lambda': 0.6740188745080551}. Best is trial 27 with value: 1.0488264373330654.\n"
     ]
    },
    {
     "name": "stdout",
     "output_type": "stream",
     "text": [
      "Training until validation scores don't improve for 200 rounds\n",
      "Early stopping, best iteration is:\n",
      "[147]\tvalid_0's rmse: 1.04884\n"
     ]
    },
    {
     "name": "stderr",
     "output_type": "stream",
     "text": [
      "[I 2024-12-31 19:56:31,519] Trial 41 finished with value: 1.0488447840579853 and parameters: {'n_estimators': 844, 'learning_rate': 0.061522506719315265, 'num_leaves': 98, 'max_depth': 12, 'min_child_samples': 47, 'subsample': 0.6009936432162757, 'colsample_bytree': 0.9669298734071723, 'reg_alpha': 6.254788914476029, 'reg_lambda': 3.398852472721756}. Best is trial 27 with value: 1.0488264373330654.\n"
     ]
    },
    {
     "name": "stdout",
     "output_type": "stream",
     "text": [
      "Training until validation scores don't improve for 200 rounds\n",
      "Early stopping, best iteration is:\n",
      "[360]\tvalid_0's rmse: 1.04884\n"
     ]
    },
    {
     "name": "stderr",
     "output_type": "stream",
     "text": [
      "[I 2024-12-31 19:56:55,118] Trial 42 finished with value: 1.048840616312596 and parameters: {'n_estimators': 702, 'learning_rate': 0.020840134002158776, 'num_leaves': 98, 'max_depth': 12, 'min_child_samples': 47, 'subsample': 0.6006675203524576, 'colsample_bytree': 0.9733420851745168, 'reg_alpha': 6.164039069609139, 'reg_lambda': 2.9798431541935795}. Best is trial 27 with value: 1.0488264373330654.\n"
     ]
    },
    {
     "name": "stdout",
     "output_type": "stream",
     "text": [
      "Training until validation scores don't improve for 200 rounds\n",
      "Early stopping, best iteration is:\n",
      "[85]\tvalid_0's rmse: 1.04892\n"
     ]
    },
    {
     "name": "stderr",
     "output_type": "stream",
     "text": [
      "[I 2024-12-31 19:57:05,381] Trial 43 finished with value: 1.0489216595217161 and parameters: {'n_estimators': 690, 'learning_rate': 0.07821729469752735, 'num_leaves': 95, 'max_depth': 12, 'min_child_samples': 47, 'subsample': 0.6039710173239481, 'colsample_bytree': 0.9740949545056513, 'reg_alpha': 6.1651169715828, 'reg_lambda': 2.946361084085308}. Best is trial 27 with value: 1.0488264373330654.\n"
     ]
    },
    {
     "name": "stdout",
     "output_type": "stream",
     "text": [
      "Training until validation scores don't improve for 200 rounds\n",
      "Early stopping, best iteration is:\n",
      "[101]\tvalid_0's rmse: 1.04897\n"
     ]
    },
    {
     "name": "stderr",
     "output_type": "stream",
     "text": [
      "[I 2024-12-31 19:57:17,229] Trial 44 finished with value: 1.0489653132879768 and parameters: {'n_estimators': 846, 'learning_rate': 0.05687461483470132, 'num_leaves': 110, 'max_depth': 12, 'min_child_samples': 52, 'subsample': 0.6368661117156355, 'colsample_bytree': 0.9446585863125221, 'reg_alpha': 5.351838543500133, 'reg_lambda': 8.499354581924628}. Best is trial 27 with value: 1.0488264373330654.\n"
     ]
    },
    {
     "name": "stdout",
     "output_type": "stream",
     "text": [
      "Training until validation scores don't improve for 200 rounds\n",
      "Early stopping, best iteration is:\n",
      "[126]\tvalid_0's rmse: 1.04889\n"
     ]
    },
    {
     "name": "stderr",
     "output_type": "stream",
     "text": [
      "[I 2024-12-31 19:57:29,280] Trial 45 finished with value: 1.048886133762431 and parameters: {'n_estimators': 581, 'learning_rate': 0.061634053953272934, 'num_leaves': 99, 'max_depth': 12, 'min_child_samples': 33, 'subsample': 0.5939867762944844, 'colsample_bytree': 0.980088458983707, 'reg_alpha': 5.971138728764299, 'reg_lambda': 3.6995677234700217}. Best is trial 27 with value: 1.0488264373330654.\n"
     ]
    },
    {
     "name": "stdout",
     "output_type": "stream",
     "text": [
      "Training until validation scores don't improve for 200 rounds\n",
      "Early stopping, best iteration is:\n",
      "[54]\tvalid_0's rmse: 1.04903\n"
     ]
    },
    {
     "name": "stderr",
     "output_type": "stream",
     "text": [
      "[I 2024-12-31 19:57:38,718] Trial 46 finished with value: 1.0490328039186498 and parameters: {'n_estimators': 1435, 'learning_rate': 0.09568645164591133, 'num_leaves': 118, 'max_depth': 12, 'min_child_samples': 45, 'subsample': 0.7476316604490031, 'colsample_bytree': 0.8999804568278285, 'reg_alpha': 4.556699184679652, 'reg_lambda': 5.365449799933144}. Best is trial 27 with value: 1.0488264373330654.\n"
     ]
    },
    {
     "name": "stdout",
     "output_type": "stream",
     "text": [
      "Training until validation scores don't improve for 200 rounds\n",
      "Did not meet early stopping. Best iteration is:\n",
      "[677]\tvalid_0's rmse: 1.0504\n"
     ]
    },
    {
     "name": "stderr",
     "output_type": "stream",
     "text": [
      "[I 2024-12-31 19:58:04,351] Trial 47 finished with value: 1.0503984718980464 and parameters: {'n_estimators': 681, 'learning_rate': 0.04653947492531622, 'num_leaves': 126, 'max_depth': 5, 'min_child_samples': 25, 'subsample': 0.5375536773375094, 'colsample_bytree': 0.9655214404531163, 'reg_alpha': 6.387490397405452, 'reg_lambda': 6.4001283002807545}. Best is trial 27 with value: 1.0488264373330654.\n"
     ]
    },
    {
     "name": "stdout",
     "output_type": "stream",
     "text": [
      "Training until validation scores don't improve for 200 rounds\n",
      "Early stopping, best iteration is:\n",
      "[36]\tvalid_0's rmse: 1.04898\n"
     ]
    },
    {
     "name": "stderr",
     "output_type": "stream",
     "text": [
      "[I 2024-12-31 19:58:11,509] Trial 48 finished with value: 1.048978047396481 and parameters: {'n_estimators': 1020, 'learning_rate': 0.1642947886470424, 'num_leaves': 76, 'max_depth': 10, 'min_child_samples': 59, 'subsample': 0.6622940071219814, 'colsample_bytree': 0.9974316027017198, 'reg_alpha': 3.5616932202262954, 'reg_lambda': 4.530453177564473}. Best is trial 27 with value: 1.0488264373330654.\n"
     ]
    },
    {
     "name": "stdout",
     "output_type": "stream",
     "text": [
      "Training until validation scores don't improve for 200 rounds\n",
      "Early stopping, best iteration is:\n",
      "[433]\tvalid_0's rmse: 1.04889\n"
     ]
    },
    {
     "name": "stderr",
     "output_type": "stream",
     "text": [
      "[I 2024-12-31 19:58:34,034] Trial 49 finished with value: 1.048885687048373 and parameters: {'n_estimators': 1221, 'learning_rate': 0.03655157763797466, 'num_leaves': 88, 'max_depth': 11, 'min_child_samples': 100, 'subsample': 0.5536007101696832, 'colsample_bytree': 0.9392080498848152, 'reg_alpha': 5.329755386857879, 'reg_lambda': 3.4099558866489805}. Best is trial 27 with value: 1.0488264373330654.\n"
     ]
    },
    {
     "name": "stdout",
     "output_type": "stream",
     "text": [
      "Best parameters for LightGBM: {'n_estimators': 767, 'learning_rate': 0.03140655970757771, 'num_leaves': 67, 'max_depth': 11, 'min_child_samples': 40, 'subsample': 0.5935654599429223, 'colsample_bytree': 0.8399966002070455, 'reg_alpha': 5.369634148022504, 'reg_lambda': 6.45117304459973}\n"
     ]
    }
   ],
   "source": [
    "def objective_lgbm(trial):\n",
    "    params = {\n",
    "        'boosting_type': 'gbdt',\n",
    "        'objective': 'regression',\n",
    "        'metric': 'rmse',\n",
    "        'n_estimators': trial.suggest_int('n_estimators', 300, 1500),\n",
    "        'learning_rate': trial.suggest_float('learning_rate', 0.01, 0.2),\n",
    "        'num_leaves': trial.suggest_int('num_leaves', 20, 150),\n",
    "        'max_depth': trial.suggest_int('max_depth', 3, 12),\n",
    "        'min_child_samples': trial.suggest_int('min_child_samples', 5, 100),\n",
    "        'subsample': trial.suggest_float('subsample', 0.5, 1.0),\n",
    "        'colsample_bytree': trial.suggest_float('colsample_bytree', 0.5, 1.0),\n",
    "        'reg_alpha': trial.suggest_float('reg_alpha', 1e-8, 10.0),\n",
    "        'reg_lambda': trial.suggest_float('reg_lambda', 1e-8, 10.0),\n",
    "        'device': 'gpu',\n",
    "        'gpu_platform_id': 0,\n",
    "        'gpu_device_id': 0,\n",
    "        'verbose': -1,\n",
    "    }\n",
    "\n",
    "    model = LGBMRegressor(**params)\n",
    "    model.fit(X_train, Y_train, \n",
    "              eval_set=[(X_valid, Y_valid)], \n",
    "              eval_metric='rmse', \n",
    "              callbacks=[early_stopping(stopping_rounds=200)])\n",
    "    preds = model.predict(X_valid)\n",
    "    return mean_squared_error(Y_valid, preds)**0.5\n",
    "    \n",
    "study_lgbm = optuna.create_study(direction='minimize')\n",
    "study_lgbm.optimize(objective_lgbm, n_trials=50)\n",
    "print(\"Best parameters for LightGBM:\", study_lgbm.best_params)"
   ]
  },
  {
   "cell_type": "code",
   "execution_count": 34,
   "id": "3dddaed4",
   "metadata": {
    "execution": {
     "iopub.execute_input": "2024-12-31T19:58:34.090330Z",
     "iopub.status.busy": "2024-12-31T19:58:34.090054Z",
     "iopub.status.idle": "2024-12-31T19:58:34.094951Z",
     "shell.execute_reply": "2024-12-31T19:58:34.094147Z"
    },
    "papermill": {
     "duration": 0.029644,
     "end_time": "2024-12-31T19:58:34.096197",
     "exception": false,
     "start_time": "2024-12-31T19:58:34.066553",
     "status": "completed"
    },
    "tags": []
   },
   "outputs": [
    {
     "data": {
      "text/plain": [
       "{'n_estimators': 767,\n",
       " 'learning_rate': 0.03140655970757771,\n",
       " 'num_leaves': 67,\n",
       " 'max_depth': 11,\n",
       " 'min_child_samples': 40,\n",
       " 'subsample': 0.5935654599429223,\n",
       " 'colsample_bytree': 0.8399966002070455,\n",
       " 'reg_alpha': 5.369634148022504,\n",
       " 'reg_lambda': 6.45117304459973}"
      ]
     },
     "execution_count": 34,
     "metadata": {},
     "output_type": "execute_result"
    }
   ],
   "source": [
    "study_lgbm.best_params"
   ]
  },
  {
   "cell_type": "code",
   "execution_count": 35,
   "id": "f751dcde",
   "metadata": {
    "execution": {
     "iopub.execute_input": "2024-12-31T19:58:34.142421Z",
     "iopub.status.busy": "2024-12-31T19:58:34.142195Z",
     "iopub.status.idle": "2024-12-31T20:13:28.206968Z",
     "shell.execute_reply": "2024-12-31T20:13:28.205934Z"
    },
    "papermill": {
     "duration": 894.089365,
     "end_time": "2024-12-31T20:13:28.208300",
     "exception": false,
     "start_time": "2024-12-31T19:58:34.118935",
     "status": "completed"
    },
    "tags": []
   },
   "outputs": [
    {
     "name": "stderr",
     "output_type": "stream",
     "text": [
      "[I 2024-12-31 19:58:34,144] A new study created in memory with name: no-name-d58d9a7b-6d4d-4424-aa7e-2af0b1d06be4\n",
      "[I 2024-12-31 19:58:43,321] Trial 0 finished with value: 1.0492691658831592 and parameters: {'iterations': 3939, 'learning_rate': 0.07908345078127106, 'depth': 9, 'l2_leaf_reg': 4.341777783364753, 'bagging_temperature': 0.18360498848454332}. Best is trial 0 with value: 1.0492691658831592.\n",
      "[I 2024-12-31 19:58:59,738] Trial 1 finished with value: 1.0514447429213771 and parameters: {'iterations': 2350, 'learning_rate': 0.08250613185379059, 'depth': 4, 'l2_leaf_reg': 0.32865891201577735, 'bagging_temperature': 0.10868526481842544}. Best is trial 0 with value: 1.0492691658831592.\n",
      "[I 2024-12-31 19:59:07,829] Trial 2 finished with value: 1.0495960599399898 and parameters: {'iterations': 3958, 'learning_rate': 0.07385679897494901, 'depth': 7, 'l2_leaf_reg': 3.4193647380266503, 'bagging_temperature': 0.614598257909768}. Best is trial 0 with value: 1.0492691658831592.\n",
      "[I 2024-12-31 19:59:26,948] Trial 3 finished with value: 1.0507815486318974 and parameters: {'iterations': 2291, 'learning_rate': 0.033247940052161584, 'depth': 5, 'l2_leaf_reg': 2.9868994812829404, 'bagging_temperature': 0.9791978665181477}. Best is trial 0 with value: 1.0492691658831592.\n",
      "[I 2024-12-31 19:59:40,360] Trial 4 finished with value: 1.050407772866013 and parameters: {'iterations': 2727, 'learning_rate': 0.0842824169886465, 'depth': 5, 'l2_leaf_reg': 2.9502035172145002, 'bagging_temperature': 0.06940638542578126}. Best is trial 0 with value: 1.0492691658831592.\n",
      "[I 2024-12-31 20:00:03,397] Trial 5 finished with value: 1.0492099066856195 and parameters: {'iterations': 3507, 'learning_rate': 0.025402427245074632, 'depth': 8, 'l2_leaf_reg': 3.4267442479523362, 'bagging_temperature': 0.4138504619391131}. Best is trial 5 with value: 1.0492099066856195.\n",
      "[I 2024-12-31 20:00:37,764] Trial 6 finished with value: 1.0493636105948967 and parameters: {'iterations': 3535, 'learning_rate': 0.01525662206985274, 'depth': 7, 'l2_leaf_reg': 3.731354572698062, 'bagging_temperature': 0.5644003912907111}. Best is trial 5 with value: 1.0492099066856195.\n",
      "[I 2024-12-31 20:00:56,869] Trial 7 finished with value: 1.050822132124997 and parameters: {'iterations': 2314, 'learning_rate': 0.025699286460491112, 'depth': 5, 'l2_leaf_reg': 2.1243622578744326, 'bagging_temperature': 0.7869354554761787}. Best is trial 5 with value: 1.0492099066856195.\n",
      "[I 2024-12-31 20:01:06,224] Trial 8 finished with value: 1.0492534054754719 and parameters: {'iterations': 3992, 'learning_rate': 0.057192949511722595, 'depth': 8, 'l2_leaf_reg': 4.543539607152831, 'bagging_temperature': 0.5901092723767046}. Best is trial 5 with value: 1.0492099066856195.\n",
      "[I 2024-12-31 20:01:14,941] Trial 9 finished with value: 1.0497400140024953 and parameters: {'iterations': 2356, 'learning_rate': 0.09641331382899583, 'depth': 6, 'l2_leaf_reg': 3.2670240481746857, 'bagging_temperature': 0.028010274061146534}. Best is trial 5 with value: 1.0492099066856195.\n",
      "[I 2024-12-31 20:01:27,602] Trial 10 finished with value: 1.0491654458984268 and parameters: {'iterations': 3269, 'learning_rate': 0.04538217140917506, 'depth': 10, 'l2_leaf_reg': 1.7305596120148508, 'bagging_temperature': 0.2776718919622355}. Best is trial 10 with value: 1.0491654458984268.\n",
      "[I 2024-12-31 20:01:41,961] Trial 11 finished with value: 1.0492835002626721 and parameters: {'iterations': 3155, 'learning_rate': 0.04065941509235958, 'depth': 10, 'l2_leaf_reg': 1.488856772710366, 'bagging_temperature': 0.3270578359124534}. Best is trial 10 with value: 1.0491654458984268.\n",
      "[I 2024-12-31 20:01:53,910] Trial 12 finished with value: 1.0492750459370568 and parameters: {'iterations': 3336, 'learning_rate': 0.04901542472997623, 'depth': 10, 'l2_leaf_reg': 1.7036984473355554, 'bagging_temperature': 0.3563848892771392}. Best is trial 10 with value: 1.0491654458984268.\n",
      "[I 2024-12-31 20:02:26,877] Trial 13 finished with value: 1.0491216595026114 and parameters: {'iterations': 2875, 'learning_rate': 0.013586011790202985, 'depth': 9, 'l2_leaf_reg': 0.8337908545833018, 'bagging_temperature': 0.34621848026719404}. Best is trial 13 with value: 1.0491216595026114.\n",
      "[I 2024-12-31 20:02:37,313] Trial 14 finished with value: 1.0493168229543706 and parameters: {'iterations': 2830, 'learning_rate': 0.05891882028258414, 'depth': 9, 'l2_leaf_reg': 0.6276976152426805, 'bagging_temperature': 0.21584798554999604}. Best is trial 13 with value: 1.0491216595026114.\n",
      "[I 2024-12-31 20:03:09,844] Trial 15 finished with value: 1.0490400454460553 and parameters: {'iterations': 2651, 'learning_rate': 0.016606579641090455, 'depth': 9, 'l2_leaf_reg': 1.0183442770333628, 'bagging_temperature': 0.2574347808304466}. Best is trial 15 with value: 1.0490400454460553.\n",
      "[I 2024-12-31 20:03:40,475] Trial 16 finished with value: 1.049141666477898 and parameters: {'iterations': 2654, 'learning_rate': 0.015189165439936063, 'depth': 9, 'l2_leaf_reg': 1.0812829200847043, 'bagging_temperature': 0.47344319980207483}. Best is trial 15 with value: 1.0490400454460553.\n",
      "[I 2024-12-31 20:04:07,364] Trial 17 finished with value: 1.0494548014431062 and parameters: {'iterations': 2049, 'learning_rate': 0.010219225523729293, 'depth': 8, 'l2_leaf_reg': 0.10653843589077638, 'bagging_temperature': 0.768611974046846}. Best is trial 15 with value: 1.0490400454460553.\n",
      "[I 2024-12-31 20:04:29,058] Trial 18 finished with value: 1.0491119792631123 and parameters: {'iterations': 2918, 'learning_rate': 0.023658646029827222, 'depth': 9, 'l2_leaf_reg': 0.926795928864639, 'bagging_temperature': 0.19539140914130154}. Best is trial 15 with value: 1.0490400454460553.\n",
      "[I 2024-12-31 20:04:51,056] Trial 19 finished with value: 1.0490610065691102 and parameters: {'iterations': 2558, 'learning_rate': 0.026219734473969913, 'depth': 8, 'l2_leaf_reg': 2.367873486358949, 'bagging_temperature': 0.17568978764607876}. Best is trial 15 with value: 1.0490400454460553.\n",
      "[I 2024-12-31 20:05:06,038] Trial 20 finished with value: 1.0490910699955445 and parameters: {'iterations': 2596, 'learning_rate': 0.033788167024127236, 'depth': 8, 'l2_leaf_reg': 2.362809736744794, 'bagging_temperature': 0.10544789917153871}. Best is trial 15 with value: 1.0490400454460553.\n",
      "[I 2024-12-31 20:05:22,100] Trial 21 finished with value: 1.049121271114349 and parameters: {'iterations': 2575, 'learning_rate': 0.03544765342204009, 'depth': 8, 'l2_leaf_reg': 2.3163471273244056, 'bagging_temperature': 0.13747670820716218}. Best is trial 15 with value: 1.0490400454460553.\n",
      "[I 2024-12-31 20:05:41,933] Trial 22 finished with value: 1.0492283278555423 and parameters: {'iterations': 2481, 'learning_rate': 0.03181261200699658, 'depth': 7, 'l2_leaf_reg': 2.4798509413733085, 'bagging_temperature': 0.015516864974391587}. Best is trial 15 with value: 1.0490400454460553.\n",
      "[I 2024-12-31 20:06:08,312] Trial 23 finished with value: 1.049148528663811 and parameters: {'iterations': 2020, 'learning_rate': 0.02198207191224097, 'depth': 8, 'l2_leaf_reg': 2.0169356828889313, 'bagging_temperature': 0.24687407030480496}. Best is trial 15 with value: 1.0490400454460553.\n",
      "[I 2024-12-31 20:06:23,400] Trial 24 finished with value: 1.0497603749342823 and parameters: {'iterations': 3066, 'learning_rate': 0.04119526309326797, 'depth': 6, 'l2_leaf_reg': 1.3301087434231402, 'bagging_temperature': 0.13161597827670374}. Best is trial 15 with value: 1.0490400454460553.\n",
      "[I 2024-12-31 20:06:32,234] Trial 25 finished with value: 1.0491896038507023 and parameters: {'iterations': 2551, 'learning_rate': 0.06592563733163755, 'depth': 8, 'l2_leaf_reg': 2.7560589622365557, 'bagging_temperature': 0.28429779998665095}. Best is trial 15 with value: 1.0490400454460553.\n",
      "[I 2024-12-31 20:06:56,874] Trial 26 finished with value: 1.0492903805740432 and parameters: {'iterations': 2188, 'learning_rate': 0.01949896002383239, 'depth': 7, 'l2_leaf_reg': 4.156196122774801, 'bagging_temperature': 0.431107422136188}. Best is trial 15 with value: 1.0490400454460553.\n",
      "[I 2024-12-31 20:07:15,266] Trial 27 finished with value: 1.0490589097381537 and parameters: {'iterations': 2764, 'learning_rate': 0.030945077882067306, 'depth': 9, 'l2_leaf_reg': 2.6009338017757515, 'bagging_temperature': 0.0037299938631930735}. Best is trial 15 with value: 1.0490400454460553.\n",
      "[I 2024-12-31 20:07:26,261] Trial 28 finished with value: 1.0492612491706335 and parameters: {'iterations': 2798, 'learning_rate': 0.052346541118966264, 'depth': 10, 'l2_leaf_reg': 3.9600181923130577, 'bagging_temperature': 0.018811196755983778}. Best is trial 15 with value: 1.0490400454460553.\n",
      "[I 2024-12-31 20:07:44,312] Trial 29 finished with value: 1.049099630145781 and parameters: {'iterations': 3017, 'learning_rate': 0.029231471740165254, 'depth': 9, 'l2_leaf_reg': 1.985388431073055, 'bagging_temperature': 0.16780136124271205}. Best is trial 15 with value: 1.0490400454460553.\n",
      "[I 2024-12-31 20:07:57,980] Trial 30 finished with value: 1.0491805831602232 and parameters: {'iterations': 2465, 'learning_rate': 0.04184653203192376, 'depth': 9, 'l2_leaf_reg': 2.700901199098416, 'bagging_temperature': 0.19713093226792233}. Best is trial 15 with value: 1.0490400454460553.\n",
      "[I 2024-12-31 20:08:13,545] Trial 31 finished with value: 1.049164068594441 and parameters: {'iterations': 2698, 'learning_rate': 0.03638885404039954, 'depth': 9, 'l2_leaf_reg': 2.321096669784187, 'bagging_temperature': 0.08116499207241812}. Best is trial 15 with value: 1.0490400454460553.\n",
      "[I 2024-12-31 20:08:31,023] Trial 32 finished with value: 1.0491432366038178 and parameters: {'iterations': 2633, 'learning_rate': 0.02849533628566795, 'depth': 8, 'l2_leaf_reg': 2.645370518111893, 'bagging_temperature': 0.08787106759624859}. Best is trial 15 with value: 1.0490400454460553.\n",
      "[I 2024-12-31 20:08:58,181] Trial 33 finished with value: 1.0492306711595873 and parameters: {'iterations': 2445, 'learning_rate': 0.019580394001084037, 'depth': 7, 'l2_leaf_reg': 3.0544928427297338, 'bagging_temperature': 0.14340773990211964}. Best is trial 15 with value: 1.0490400454460553.\n",
      "[I 2024-12-31 20:09:23,047] Trial 34 finished with value: 1.0491059136294514 and parameters: {'iterations': 2757, 'learning_rate': 0.01835166539100802, 'depth': 9, 'l2_leaf_reg': 0.4288975301233273, 'bagging_temperature': 0.08561999447273047}. Best is trial 15 with value: 1.0490400454460553.\n",
      "[I 2024-12-31 20:09:38,421] Trial 35 finished with value: 1.049143020300549 and parameters: {'iterations': 2153, 'learning_rate': 0.0359971499293446, 'depth': 8, 'l2_leaf_reg': 1.4288514062190227, 'bagging_temperature': 0.2527079056300688}. Best is trial 15 with value: 1.0490400454460553.\n",
      "[I 2024-12-31 20:09:59,711] Trial 36 finished with value: 1.0497517537375665 and parameters: {'iterations': 2937, 'learning_rate': 0.030699052526868623, 'depth': 6, 'l2_leaf_reg': 4.782846283477925, 'bagging_temperature': 0.04454778147697565}. Best is trial 15 with value: 1.0490400454460553.\n",
      "[I 2024-12-31 20:10:17,695] Trial 37 finished with value: 1.053302389278237 and parameters: {'iterations': 2575, 'learning_rate': 0.010494512151545779, 'depth': 4, 'l2_leaf_reg': 3.398202494438279, 'bagging_temperature': 0.12417512836325939}. Best is trial 15 with value: 1.0490400454460553.\n",
      "[I 2024-12-31 20:10:43,758] Trial 38 finished with value: 1.0491094191488282 and parameters: {'iterations': 2372, 'learning_rate': 0.0248622382585435, 'depth': 10, 'l2_leaf_reg': 3.7163962628018754, 'bagging_temperature': 0.003925590135877677}. Best is trial 15 with value: 1.0490400454460553.\n",
      "[I 2024-12-31 20:10:51,141] Trial 39 finished with value: 1.049431862359332 and parameters: {'iterations': 3710, 'learning_rate': 0.06806015207553152, 'depth': 8, 'l2_leaf_reg': 1.785931437614602, 'bagging_temperature': 0.6704825011396256}. Best is trial 15 with value: 1.0490400454460553.\n",
      "[I 2024-12-31 20:11:04,661] Trial 40 finished with value: 1.0493335146267109 and parameters: {'iterations': 2195, 'learning_rate': 0.04699974798645786, 'depth': 7, 'l2_leaf_reg': 3.026810339490169, 'bagging_temperature': 0.5225080809411048}. Best is trial 15 with value: 1.0490400454460553.\n",
      "[I 2024-12-31 20:11:24,185] Trial 41 finished with value: 1.0491045893428514 and parameters: {'iterations': 3048, 'learning_rate': 0.028101007814929267, 'depth': 9, 'l2_leaf_reg': 1.9852854244058353, 'bagging_temperature': 0.16791728802391098}. Best is trial 15 with value: 1.0490400454460553.\n",
      "[I 2024-12-31 20:11:43,614] Trial 42 finished with value: 1.049096741293515 and parameters: {'iterations': 2979, 'learning_rate': 0.03258668497186987, 'depth': 9, 'l2_leaf_reg': 2.3681078288647, 'bagging_temperature': 0.17741656678117668}. Best is trial 15 with value: 1.0490400454460553.\n",
      "[I 2024-12-31 20:11:58,906] Trial 43 finished with value: 1.0490923415147666 and parameters: {'iterations': 3169, 'learning_rate': 0.03304099940692315, 'depth': 9, 'l2_leaf_reg': 2.2831786665280216, 'bagging_temperature': 0.225374650242038}. Best is trial 15 with value: 1.0490400454460553.\n",
      "[I 2024-12-31 20:12:12,551] Trial 44 finished with value: 1.0492615090511592 and parameters: {'iterations': 3189, 'learning_rate': 0.03938738607119825, 'depth': 10, 'l2_leaf_reg': 2.8402621196010047, 'bagging_temperature': 0.31492120163912485}. Best is trial 15 with value: 1.0490400454460553.\n",
      "[I 2024-12-31 20:12:34,944] Trial 45 finished with value: 1.0491880329809675 and parameters: {'iterations': 3518, 'learning_rate': 0.02222126804887496, 'depth': 8, 'l2_leaf_reg': 2.180620530523463, 'bagging_temperature': 0.4037029034681907}. Best is trial 15 with value: 1.0490400454460553.\n",
      "[I 2024-12-31 20:12:42,309] Trial 46 finished with value: 1.0493622258811512 and parameters: {'iterations': 2707, 'learning_rate': 0.0964137942434505, 'depth': 8, 'l2_leaf_reg': 3.216857788878248, 'bagging_temperature': 0.23384140227600997}. Best is trial 15 with value: 1.0490400454460553.\n",
      "[I 2024-12-31 20:13:08,263] Trial 47 finished with value: 1.0491475223894247 and parameters: {'iterations': 3347, 'learning_rate': 0.01651085935145866, 'depth': 9, 'l2_leaf_reg': 1.234019357372797, 'bagging_temperature': 0.3740738659810377}. Best is trial 15 with value: 1.0490400454460553.\n",
      "[I 2024-12-31 20:13:16,608] Trial 48 finished with value: 1.0495384195450903 and parameters: {'iterations': 2798, 'learning_rate': 0.08122142805941675, 'depth': 10, 'l2_leaf_reg': 1.6218271717576593, 'bagging_temperature': 0.06346965134289509}. Best is trial 15 with value: 1.0490400454460553.\n",
      "[I 2024-12-31 20:13:28,201] Trial 49 finished with value: 1.0495080361195974 and parameters: {'iterations': 3167, 'learning_rate': 0.045335684880410336, 'depth': 9, 'l2_leaf_reg': 1.8802323970375299, 'bagging_temperature': 0.9404255875722106}. Best is trial 15 with value: 1.0490400454460553.\n"
     ]
    },
    {
     "name": "stdout",
     "output_type": "stream",
     "text": [
      "Best parameters for CatBoost: {'iterations': 2651, 'learning_rate': 0.016606579641090455, 'depth': 9, 'l2_leaf_reg': 1.0183442770333628, 'bagging_temperature': 0.2574347808304466}\n"
     ]
    }
   ],
   "source": [
    "def objective_cat(trial):\n",
    "    params = {\n",
    "        'iterations': trial.suggest_int('iterations', 2000, 4000),\n",
    "        'learning_rate': trial.suggest_float('learning_rate', 0.01, 0.1),\n",
    "        'depth': trial.suggest_int('depth', 4, 10),\n",
    "        'l2_leaf_reg': trial.suggest_float('l2_leaf_reg', 1e-8, 5.0),\n",
    "        'bagging_temperature': trial.suggest_float('bagging_temperature', 0.0, 1.0),\n",
    "        'task_type': 'GPU',\n",
    "        'devices': '0',\n",
    "    }\n",
    "\n",
    "    model = CatBoostRegressor(**params, verbose=0)\n",
    "    model.fit(X_train, Y_train, eval_set=(X_valid, Y_valid), early_stopping_rounds=200)\n",
    "    preds = model.predict(X_valid)\n",
    "    return mean_squared_error(Y_valid, preds)**0.5\n",
    "\n",
    "study_cat = optuna.create_study(direction='minimize')\n",
    "study_cat.optimize(objective_cat, n_trials=50)\n",
    "print(\"Best parameters for CatBoost:\", study_cat.best_params)"
   ]
  },
  {
   "cell_type": "code",
   "execution_count": 36,
   "id": "3b099f1f",
   "metadata": {
    "execution": {
     "iopub.execute_input": "2024-12-31T20:13:28.261687Z",
     "iopub.status.busy": "2024-12-31T20:13:28.261389Z",
     "iopub.status.idle": "2024-12-31T20:13:28.266697Z",
     "shell.execute_reply": "2024-12-31T20:13:28.265885Z"
    },
    "papermill": {
     "duration": 0.033406,
     "end_time": "2024-12-31T20:13:28.268084",
     "exception": false,
     "start_time": "2024-12-31T20:13:28.234678",
     "status": "completed"
    },
    "tags": []
   },
   "outputs": [
    {
     "data": {
      "text/plain": [
       "{'iterations': 2651,\n",
       " 'learning_rate': 0.016606579641090455,\n",
       " 'depth': 9,\n",
       " 'l2_leaf_reg': 1.0183442770333628,\n",
       " 'bagging_temperature': 0.2574347808304466}"
      ]
     },
     "execution_count": 36,
     "metadata": {},
     "output_type": "execute_result"
    }
   ],
   "source": [
    "study_cat.best_params"
   ]
  },
  {
   "cell_type": "markdown",
   "id": "8774ea9e",
   "metadata": {
    "papermill": {
     "duration": 0.024979,
     "end_time": "2024-12-31T20:13:28.323525",
     "exception": false,
     "start_time": "2024-12-31T20:13:28.298546",
     "status": "completed"
    },
    "tags": []
   },
   "source": [
    "### Cross Validation for Voting Regressor"
   ]
  },
  {
   "cell_type": "code",
   "execution_count": 37,
   "id": "ac17dd72",
   "metadata": {
    "execution": {
     "iopub.execute_input": "2024-12-31T20:13:28.374603Z",
     "iopub.status.busy": "2024-12-31T20:13:28.374386Z",
     "iopub.status.idle": "2024-12-31T20:18:38.277587Z",
     "shell.execute_reply": "2024-12-31T20:18:38.276572Z"
    },
    "papermill": {
     "duration": 309.955873,
     "end_time": "2024-12-31T20:18:38.304621",
     "exception": false,
     "start_time": "2024-12-31T20:13:28.348748",
     "status": "completed"
    },
    "tags": []
   },
   "outputs": [
    {
     "name": "stdout",
     "output_type": "stream",
     "text": [
      "Fold 1\n",
      "Fold 1 RMSLE: 1.0487652703013912\n",
      "Update best voting model\n",
      "Fold 2\n",
      "Fold 2 RMSLE: 1.0493706600481663\n",
      "Fold 3\n",
      "Fold 3 RMSLE: 1.0494759777082134\n",
      "Fold 4\n",
      "Fold 4 RMSLE: 1.0458655673317059\n",
      "Update best voting model\n",
      "Fold 5\n",
      "Fold 5 RMSLE: 1.044851385909039\n",
      "Update best voting model\n"
     ]
    }
   ],
   "source": [
    "kf = KFold(n_splits=5, shuffle=True, random_state=RANDOM_SEED)\n",
    "best_voting_model = None\n",
    "lowest_error = np.inf\n",
    "\n",
    "splits = kf.split(train)\n",
    "\n",
    "for fold, (train_idx, valid_idx) in enumerate(splits):\n",
    "    print(f\"Fold {fold + 1}\")\n",
    "    X_train_split, X_valid_split = X_sample.iloc[train_idx], X_sample.iloc[valid_idx]\n",
    "    Y_train_split, Y_valid_split = Y_sample.iloc[train_idx], Y_sample.iloc[valid_idx]\n",
    "\n",
    "    # LightGBM model\n",
    "    lgbm_model = LGBMRegressor(**study_lgbm.best_params, device='gpu', gpu_platform_id=0, gpu_device_id=0, verbose=-1)\n",
    "\n",
    "    # CatBoost model\n",
    "    cat_model = CatBoostRegressor(**study_cat.best_params, verbose=False, task_type= 'GPU')\n",
    "\n",
    "    # Voting Regressor\n",
    "    voting_model = VotingRegressor(\n",
    "        estimators=[\n",
    "            ('lgbm', lgbm_model),\n",
    "            ('cat', cat_model),\n",
    "        ]\n",
    "    )\n",
    "\n",
    "    voting_model.fit(X_train_split, Y_train_split)\n",
    "    prediction = voting_model.predict(X_valid_split)\n",
    "    fold_rmsle = mean_squared_error(Y_valid_split, prediction)**0.5\n",
    "    print(f\"Fold {fold + 1} RMSLE: {fold_rmsle}\")\n",
    "\n",
    "    if fold_rmsle < lowest_error:\n",
    "        lowest_error = fold_rmsle\n",
    "        best_voting_model = voting_model\n",
    "        print(\"Update best voting model\")"
   ]
  },
  {
   "cell_type": "markdown",
   "id": "5bd3184e",
   "metadata": {
    "papermill": {
     "duration": 0.025259,
     "end_time": "2024-12-31T20:18:38.355382",
     "exception": false,
     "start_time": "2024-12-31T20:18:38.330123",
     "status": "completed"
    },
    "tags": []
   },
   "source": [
    "### Inference"
   ]
  },
  {
   "cell_type": "code",
   "execution_count": 38,
   "id": "51b958b9",
   "metadata": {
    "execution": {
     "iopub.execute_input": "2024-12-31T20:18:38.408213Z",
     "iopub.status.busy": "2024-12-31T20:18:38.407935Z",
     "iopub.status.idle": "2024-12-31T20:19:04.706922Z",
     "shell.execute_reply": "2024-12-31T20:19:04.705856Z"
    },
    "papermill": {
     "duration": 26.326944,
     "end_time": "2024-12-31T20:19:04.708450",
     "exception": false,
     "start_time": "2024-12-31T20:18:38.381506",
     "status": "completed"
    },
    "tags": []
   },
   "outputs": [
    {
     "data": {
      "text/plain": [
       "array([6.57367955, 6.6717204 , 6.67973909, ..., 6.69538168, 6.66378453,\n",
       "       6.63432951])"
      ]
     },
     "execution_count": 38,
     "metadata": {},
     "output_type": "execute_result"
    }
   ],
   "source": [
    "log_prem = best_voting_model.predict(X_test)\n",
    "log_prem"
   ]
  },
  {
   "cell_type": "code",
   "execution_count": 39,
   "id": "19dbe825",
   "metadata": {
    "execution": {
     "iopub.execute_input": "2024-12-31T20:19:04.764364Z",
     "iopub.status.busy": "2024-12-31T20:19:04.764094Z",
     "iopub.status.idle": "2024-12-31T20:19:04.770818Z",
     "shell.execute_reply": "2024-12-31T20:19:04.770049Z"
    },
    "papermill": {
     "duration": 0.036144,
     "end_time": "2024-12-31T20:19:04.772206",
     "exception": false,
     "start_time": "2024-12-31T20:19:04.736062",
     "status": "completed"
    },
    "tags": []
   },
   "outputs": [
    {
     "data": {
      "text/plain": [
       "array([714.99955538, 788.75312568, 795.11137527, ..., 807.66252626,\n",
       "       782.51055274, 759.76880983])"
      ]
     },
     "execution_count": 39,
     "metadata": {},
     "output_type": "execute_result"
    }
   ],
   "source": [
    "prem = np.expm1(log_prem)\n",
    "prem"
   ]
  },
  {
   "cell_type": "code",
   "execution_count": 40,
   "id": "02a65d31",
   "metadata": {
    "execution": {
     "iopub.execute_input": "2024-12-31T20:19:04.828485Z",
     "iopub.status.busy": "2024-12-31T20:19:04.828241Z",
     "iopub.status.idle": "2024-12-31T20:19:04.836712Z",
     "shell.execute_reply": "2024-12-31T20:19:04.836134Z"
    },
    "papermill": {
     "duration": 0.036336,
     "end_time": "2024-12-31T20:19:04.837996",
     "exception": false,
     "start_time": "2024-12-31T20:19:04.801660",
     "status": "completed"
    },
    "tags": []
   },
   "outputs": [],
   "source": [
    "test['Premium Amount'] = prem\n",
    "res = test[['id', 'Premium Amount']]"
   ]
  },
  {
   "cell_type": "code",
   "execution_count": 41,
   "id": "396f1ca7",
   "metadata": {
    "execution": {
     "iopub.execute_input": "2024-12-31T20:19:04.890348Z",
     "iopub.status.busy": "2024-12-31T20:19:04.890119Z",
     "iopub.status.idle": "2024-12-31T20:19:04.896631Z",
     "shell.execute_reply": "2024-12-31T20:19:04.895944Z"
    },
    "papermill": {
     "duration": 0.034036,
     "end_time": "2024-12-31T20:19:04.897725",
     "exception": false,
     "start_time": "2024-12-31T20:19:04.863689",
     "status": "completed"
    },
    "tags": []
   },
   "outputs": [
    {
     "data": {
      "text/html": [
       "<div>\n",
       "<style scoped>\n",
       "    .dataframe tbody tr th:only-of-type {\n",
       "        vertical-align: middle;\n",
       "    }\n",
       "\n",
       "    .dataframe tbody tr th {\n",
       "        vertical-align: top;\n",
       "    }\n",
       "\n",
       "    .dataframe thead th {\n",
       "        text-align: right;\n",
       "    }\n",
       "</style>\n",
       "<table border=\"1\" class=\"dataframe\">\n",
       "  <thead>\n",
       "    <tr style=\"text-align: right;\">\n",
       "      <th></th>\n",
       "      <th>id</th>\n",
       "      <th>Premium Amount</th>\n",
       "    </tr>\n",
       "  </thead>\n",
       "  <tbody>\n",
       "    <tr>\n",
       "      <th>0</th>\n",
       "      <td>1200000</td>\n",
       "      <td>714.999555</td>\n",
       "    </tr>\n",
       "    <tr>\n",
       "      <th>1</th>\n",
       "      <td>1200001</td>\n",
       "      <td>788.753126</td>\n",
       "    </tr>\n",
       "    <tr>\n",
       "      <th>2</th>\n",
       "      <td>1200002</td>\n",
       "      <td>795.111375</td>\n",
       "    </tr>\n",
       "    <tr>\n",
       "      <th>3</th>\n",
       "      <td>1200003</td>\n",
       "      <td>790.101422</td>\n",
       "    </tr>\n",
       "    <tr>\n",
       "      <th>4</th>\n",
       "      <td>1200004</td>\n",
       "      <td>766.243609</td>\n",
       "    </tr>\n",
       "  </tbody>\n",
       "</table>\n",
       "</div>"
      ],
      "text/plain": [
       "        id  Premium Amount\n",
       "0  1200000      714.999555\n",
       "1  1200001      788.753126\n",
       "2  1200002      795.111375\n",
       "3  1200003      790.101422\n",
       "4  1200004      766.243609"
      ]
     },
     "execution_count": 41,
     "metadata": {},
     "output_type": "execute_result"
    }
   ],
   "source": [
    "res.head()"
   ]
  },
  {
   "cell_type": "code",
   "execution_count": 42,
   "id": "537672d0",
   "metadata": {
    "execution": {
     "iopub.execute_input": "2024-12-31T20:19:04.949709Z",
     "iopub.status.busy": "2024-12-31T20:19:04.949506Z",
     "iopub.status.idle": "2024-12-31T20:19:06.223359Z",
     "shell.execute_reply": "2024-12-31T20:19:06.222619Z"
    },
    "papermill": {
     "duration": 1.301416,
     "end_time": "2024-12-31T20:19:06.224823",
     "exception": false,
     "start_time": "2024-12-31T20:19:04.923407",
     "status": "completed"
    },
    "tags": []
   },
   "outputs": [],
   "source": [
    "res.to_csv('submission.csv', index = False)"
   ]
  }
 ],
 "metadata": {
  "kaggle": {
   "accelerator": "nvidiaTeslaT4",
   "dataSources": [
    {
     "databundleVersionId": 10305135,
     "sourceId": 84896,
     "sourceType": "competition"
    }
   ],
   "dockerImageVersionId": 30823,
   "isGpuEnabled": true,
   "isInternetEnabled": true,
   "language": "python",
   "sourceType": "notebook"
  },
  "kernelspec": {
   "display_name": "Python 3",
   "language": "python",
   "name": "python3"
  },
  "language_info": {
   "codemirror_mode": {
    "name": "ipython",
    "version": 3
   },
   "file_extension": ".py",
   "mimetype": "text/x-python",
   "name": "python",
   "nbconvert_exporter": "python",
   "pygments_lexer": "ipython3",
   "version": "3.10.12"
  },
  "papermill": {
   "default_parameters": {},
   "duration": 2163.94171,
   "end_time": "2024-12-31T20:19:07.573594",
   "environment_variables": {},
   "exception": null,
   "input_path": "__notebook__.ipynb",
   "output_path": "__notebook__.ipynb",
   "parameters": {},
   "start_time": "2024-12-31T19:43:03.631884",
   "version": "2.6.0"
  }
 },
 "nbformat": 4,
 "nbformat_minor": 5
}
